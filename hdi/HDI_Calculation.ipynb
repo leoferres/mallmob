{
 "cells": [
  {
   "cell_type": "code",
   "execution_count": 1,
   "metadata": {},
   "outputs": [],
   "source": [
    "import pandas as pd"
   ]
  },
  {
   "cell_type": "code",
   "execution_count": 2,
   "metadata": {},
   "outputs": [],
   "source": [
    "import numpy as np"
   ]
  },
  {
   "cell_type": "code",
   "execution_count": null,
   "metadata": {},
   "outputs": [],
   "source": []
  },
  {
   "cell_type": "markdown",
   "metadata": {},
   "source": []
  },
  {
   "cell_type": "code",
   "execution_count": 45,
   "metadata": {},
   "outputs": [],
   "source": [
    "escolaridad = pd.read_csv(\"escolaridad_por_comuna.csv\", sep=';', names=[\"nombre_comuna\", \"EI\"])"
   ]
  },
  {
   "cell_type": "code",
   "execution_count": 46,
   "metadata": {},
   "outputs": [
    {
     "data": {
      "text/plain": [
       "(52, 2)"
      ]
     },
     "execution_count": 46,
     "metadata": {},
     "output_type": "execute_result"
    }
   ],
   "source": [
    "escolaridad.shape"
   ]
  },
  {
   "cell_type": "code",
   "execution_count": 47,
   "metadata": {},
   "outputs": [],
   "source": [
    "comunas = pd.read_csv(\"datos_por_comuna.csv\", sep=';', names=['comuna', 'nombre_comuna', 'population','idh'])"
   ]
  },
  {
   "cell_type": "code",
   "execution_count": 48,
   "metadata": {},
   "outputs": [
    {
     "data": {
      "text/plain": [
       "(52, 4)"
      ]
     },
     "execution_count": 48,
     "metadata": {},
     "output_type": "execute_result"
    }
   ],
   "source": [
    "comunas.shape"
   ]
  },
  {
   "cell_type": "code",
   "execution_count": 50,
   "metadata": {},
   "outputs": [],
   "source": [
    "escolaridad = escolaridad.merge(comunas[[\"nombre_comuna\", \"comuna\"]])\n",
    "escolaridad = escolaridad[['comuna', 'EI']]"
   ]
  },
  {
   "cell_type": "code",
   "execution_count": null,
   "metadata": {},
   "outputs": [],
   "source": []
  },
  {
   "cell_type": "code",
   "execution_count": 51,
   "metadata": {},
   "outputs": [],
   "source": [
    "ingresos = pd.read_csv(\"ingresos_por_comuna.csv\", sep=';', names=[\"nombre_comuna\", \"II\"])"
   ]
  },
  {
   "cell_type": "code",
   "execution_count": 53,
   "metadata": {},
   "outputs": [],
   "source": [
    "ingresos = ingresos.merge(comunas[[\"nombre_comuna\", \"comuna\"]])\n",
    "ingresos = ingresos[['comuna', 'II']]"
   ]
  },
  {
   "cell_type": "code",
   "execution_count": null,
   "metadata": {},
   "outputs": [],
   "source": []
  },
  {
   "cell_type": "code",
   "execution_count": 58,
   "metadata": {},
   "outputs": [],
   "source": [
    "expectativa = pd.read_csv('DEF_2015.csv')"
   ]
  },
  {
   "cell_type": "code",
   "execution_count": 63,
   "metadata": {},
   "outputs": [],
   "source": [
    "expectativa = expectativa[['COMUNA', 'EDAD_TIPO', 'EDAD_CANT']]"
   ]
  },
  {
   "cell_type": "code",
   "execution_count": 72,
   "metadata": {},
   "outputs": [
    {
     "name": "stderr",
     "output_type": "stream",
     "text": [
      "/usr/local/lib/python3.5/dist-packages/ipykernel/__main__.py:1: SettingWithCopyWarning: \n",
      "A value is trying to be set on a copy of a slice from a DataFrame.\n",
      "Try using .loc[row_indexer,col_indexer] = value instead\n",
      "\n",
      "See the caveats in the documentation: http://pandas.pydata.org/pandas-docs/stable/indexing.html#indexing-view-versus-copy\n",
      "  if __name__ == '__main__':\n"
     ]
    }
   ],
   "source": [
    "expectativa['LEI'] = (expectativa.EDAD_CANT * (expectativa.EDAD_TIPO==1)) \\\n",
    "                    +(expectativa.EDAD_CANT * (expectativa.EDAD_TIPO==2) / 12)  \\\n",
    "                    + (expectativa.EDAD_CANT * (expectativa.EDAD_TIPO==3) / 365)"
   ]
  },
  {
   "cell_type": "code",
   "execution_count": 80,
   "metadata": {},
   "outputs": [],
   "source": [
    "expectativa = expectativa[['COMUNA','LEI']].groupby('COMUNA').mean().reset_index()"
   ]
  },
  {
   "cell_type": "code",
   "execution_count": 88,
   "metadata": {},
   "outputs": [],
   "source": [
    "expectativa.columns = ['comuna', 'LEI']"
   ]
  },
  {
   "cell_type": "code",
   "execution_count": 93,
   "metadata": {},
   "outputs": [],
   "source": [
    "datos_hdi = expectativa.merge(ingresos).merge(escolaridad)"
   ]
  },
  {
   "cell_type": "code",
   "execution_count": 95,
   "metadata": {},
   "outputs": [],
   "source": [
    "datos_hdi.LEI = [(lei - 20) / (85 - 20) for lei in datos_hdi.LEI]"
   ]
  },
  {
   "cell_type": "code",
   "execution_count": 98,
   "metadata": {},
   "outputs": [],
   "source": [
    "datos_hdi.EI = [ei / 15 for ei in datos_hdi.EI]"
   ]
  },
  {
   "cell_type": "code",
   "execution_count": null,
   "metadata": {},
   "outputs": [],
   "source": [
    "#Noviembre 2013: 1 peso chileno = XXX dolares (XXX es el factor de conversion)\n",
    "# XXX = 1/519"
   ]
  },
  {
   "cell_type": "code",
   "execution_count": 99,
   "metadata": {},
   "outputs": [],
   "source": [
    "datos_hdi.II = [(np.log(ii*12/519) - np.log(100)) / (np.log(75000) - np.log(100)) for ii in datos_hdi.II]"
   ]
  },
  {
   "cell_type": "code",
   "execution_count": 110,
   "metadata": {},
   "outputs": [],
   "source": [
    "datos_hdi[\"HDI_2013\"] = np.power(datos_hdi.LEI*datos_hdi.EI*datos_hdi.II, 0.333333)"
   ]
  },
  {
   "cell_type": "code",
   "execution_count": 111,
   "metadata": {},
   "outputs": [],
   "source": [
    "datos_hdi.to_csv(\"hdi_2013_por_comuna.csv\")"
   ]
  },
  {
   "cell_type": "code",
   "execution_count": 112,
   "metadata": {},
   "outputs": [
    {
     "data": {
      "text/html": [
       "<div>\n",
       "<table border=\"1\" class=\"dataframe\">\n",
       "  <thead>\n",
       "    <tr style=\"text-align: right;\">\n",
       "      <th></th>\n",
       "      <th>comuna</th>\n",
       "      <th>LEI</th>\n",
       "      <th>II</th>\n",
       "      <th>EI</th>\n",
       "      <th>HDI</th>\n",
       "      <th>HDI_2013</th>\n",
       "    </tr>\n",
       "  </thead>\n",
       "  <tbody>\n",
       "    <tr>\n",
       "      <th>0</th>\n",
       "      <td>13101</td>\n",
       "      <td>0.791672</td>\n",
       "      <td>0.873137</td>\n",
       "      <td>0.924099</td>\n",
       "      <td>0.861223</td>\n",
       "      <td>0.861223</td>\n",
       "    </tr>\n",
       "    <tr>\n",
       "      <th>1</th>\n",
       "      <td>13102</td>\n",
       "      <td>0.782817</td>\n",
       "      <td>0.800343</td>\n",
       "      <td>0.713499</td>\n",
       "      <td>0.764616</td>\n",
       "      <td>0.764616</td>\n",
       "    </tr>\n",
       "    <tr>\n",
       "      <th>2</th>\n",
       "      <td>13103</td>\n",
       "      <td>0.752447</td>\n",
       "      <td>0.750382</td>\n",
       "      <td>0.657961</td>\n",
       "      <td>0.718874</td>\n",
       "      <td>0.718874</td>\n",
       "    </tr>\n",
       "    <tr>\n",
       "      <th>3</th>\n",
       "      <td>13104</td>\n",
       "      <td>0.784872</td>\n",
       "      <td>0.760697</td>\n",
       "      <td>0.705426</td>\n",
       "      <td>0.749585</td>\n",
       "      <td>0.749585</td>\n",
       "    </tr>\n",
       "    <tr>\n",
       "      <th>4</th>\n",
       "      <td>13105</td>\n",
       "      <td>0.777236</td>\n",
       "      <td>0.780019</td>\n",
       "      <td>0.673876</td>\n",
       "      <td>0.742015</td>\n",
       "      <td>0.742015</td>\n",
       "    </tr>\n",
       "  </tbody>\n",
       "</table>\n",
       "</div>"
      ],
      "text/plain": [
       "   comuna       LEI        II        EI       HDI  HDI_2013\n",
       "0   13101  0.791672  0.873137  0.924099  0.861223  0.861223\n",
       "1   13102  0.782817  0.800343  0.713499  0.764616  0.764616\n",
       "2   13103  0.752447  0.750382  0.657961  0.718874  0.718874\n",
       "3   13104  0.784872  0.760697  0.705426  0.749585  0.749585\n",
       "4   13105  0.777236  0.780019  0.673876  0.742015  0.742015"
      ]
     },
     "execution_count": 112,
     "metadata": {},
     "output_type": "execute_result"
    }
   ],
   "source": [
    "datos_hdi.head()"
   ]
  },
  {
   "cell_type": "code",
   "execution_count": null,
   "metadata": {},
   "outputs": [],
   "source": []
  },
  {
   "cell_type": "code",
   "execution_count": 113,
   "metadata": {},
   "outputs": [],
   "source": [
    "datosComuna = pd.read_csv(\"datos_por_comuna.csv\", delimiter=';', names = [\"comuna\", \"nombre_comuna\", \"population\", \"idh\"])"
   ]
  },
  {
   "cell_type": "code",
   "execution_count": 121,
   "metadata": {},
   "outputs": [],
   "source": [
    "correl = datosComuna.merge(datos_hdi).dropna()"
   ]
  },
  {
   "cell_type": "code",
   "execution_count": null,
   "metadata": {},
   "outputs": [],
   "source": []
  },
  {
   "cell_type": "code",
   "execution_count": null,
   "metadata": {},
   "outputs": [],
   "source": []
  },
  {
   "cell_type": "code",
   "execution_count": null,
   "metadata": {},
   "outputs": [],
   "source": []
  },
  {
   "cell_type": "code",
   "execution_count": 123,
   "metadata": {},
   "outputs": [
    {
     "name": "stdout",
     "output_type": "stream",
     "text": [
      "Populating the interactive namespace from numpy and matplotlib\n"
     ]
    }
   ],
   "source": [
    "%pylab inline\n",
    "import matplotlib.pyplot as plt"
   ]
  },
  {
   "cell_type": "code",
   "execution_count": 125,
   "metadata": {},
   "outputs": [
    {
     "data": {
      "text/plain": [
       "<matplotlib.collections.PathCollection at 0x7f878153db38>"
      ]
     },
     "execution_count": 125,
     "metadata": {},
     "output_type": "execute_result"
    },
    {
     "data": {
      "image/png": "[encoded data removed]",
      "text/plain": [
       "<matplotlib.figure.Figure at 0x7f878422df98>"
      ]
     },
     "metadata": {},
     "output_type": "display_data"
    }
   ],
   "source": [
    "plt.scatter(correl.idh, correl.HDI_2013)\n",
    "#plt.xlim(0,1)\n",
    "#plt.xscale('log')\n",
    "#plt.yscale('log')"
   ]
  },
  {
   "cell_type": "code",
   "execution_count": 127,
   "metadata": {},
   "outputs": [
    {
     "data": {
      "text/plain": [
       "(0.89805961842324644, 4.8663877025869476e-14)"
      ]
     },
     "execution_count": 127,
     "metadata": {},
     "output_type": "execute_result"
    }
   ],
   "source": [
    "from scipy import stats\n",
    "stats.pearsonr(correl.idh, correl.HDI_2013)"
   ]
  },
  {
   "cell_type": "code",
   "execution_count": null,
   "metadata": {},
   "outputs": [],
   "source": []
  }
 ],
 "metadata": {
  "kernelspec": {
   "display_name": "Python 3",
   "language": "python",
   "name": "python3"
  },
  "language_info": {
   "codemirror_mode": {
    "name": "ipython",
    "version": 3
   },
   "file_extension": ".py",
   "mimetype": "text/x-python",
   "name": "python",
   "nbconvert_exporter": "python",
   "pygments_lexer": "ipython3",
   "version": "3.5.4"
  }
 },
 "nbformat": 4,
 "nbformat_minor": 2
}
