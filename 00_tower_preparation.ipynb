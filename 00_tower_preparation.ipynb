{
 "cells": [
  {
   "cell_type": "markdown",
   "metadata": {},
   "source": [
    "# Input Data: Towers, City Areas, CASEN Survey, Travel Survey\n",
    "\n",
    "By: Eduardo Graells-Garrido (egraells@udd.cl)\n",
    "\n",
    "In this notebook we prepare the basic input data for our project. "
   ]
  },
  {
   "cell_type": "code",
   "execution_count": 2,
   "metadata": {},
   "outputs": [],
   "source": [
    "import pandas as pd\n",
    "import matplotlib.pyplot as plt\n",
    "import seaborn as sns\n",
    "import geopandas as gpd\n",
    "from shapely.geometry import Point\n",
    "#import smopy\n",
    "import joblib\n",
    "\n",
    "sns.set(context='poster', style='ticks', palette='Accent', font_scale=1.1)\n",
    "%matplotlib inline"
   ]
  },
  {
   "cell_type": "markdown",
   "metadata": {},
   "source": [
    "## Urban Areas"
   ]
  },
  {
   "cell_type": "code",
   "execution_count": 3,
   "metadata": {},
   "outputs": [
    {
     "data": {
      "text/html": [
       "<div>\n",
       "<style scoped>\n",
       "    .dataframe tbody tr th:only-of-type {\n",
       "        vertical-align: middle;\n",
       "    }\n",
       "\n",
       "    .dataframe tbody tr th {\n",
       "        vertical-align: top;\n",
       "    }\n",
       "\n",
       "    .dataframe thead th {\n",
       "        text-align: right;\n",
       "    }\n",
       "</style>\n",
       "<table border=\"1\" class=\"dataframe\">\n",
       "  <thead>\n",
       "    <tr style=\"text-align: right;\">\n",
       "      <th></th>\n",
       "      <th>NOMBRE</th>\n",
       "      <th>TIPO_AREA</th>\n",
       "      <th>SHAPE_Leng</th>\n",
       "      <th>SHAPE_Area</th>\n",
       "      <th>geometry</th>\n",
       "    </tr>\n",
       "  </thead>\n",
       "  <tbody>\n",
       "    <tr>\n",
       "      <th>262</th>\n",
       "      <td>Coinco</td>\n",
       "      <td>Pueblo</td>\n",
       "      <td>18611.702563</td>\n",
       "      <td>2.226378e+06</td>\n",
       "      <td>POLYGON ((-70.99080876180511 -34.3040065762596...</td>\n",
       "    </tr>\n",
       "    <tr>\n",
       "      <th>73</th>\n",
       "      <td>Achao</td>\n",
       "      <td>Pueblo</td>\n",
       "      <td>6878.493141</td>\n",
       "      <td>1.587466e+06</td>\n",
       "      <td>POLYGON ((-73.49975728610187 -42.4676540472772...</td>\n",
       "    </tr>\n",
       "    <tr>\n",
       "      <th>353</th>\n",
       "      <td>Machali</td>\n",
       "      <td>Ciudad</td>\n",
       "      <td>13497.743419</td>\n",
       "      <td>3.398234e+06</td>\n",
       "      <td>POLYGON ((-70.64154894301808 -34.1667781555991...</td>\n",
       "    </tr>\n",
       "    <tr>\n",
       "      <th>293</th>\n",
       "      <td>Cauquenes</td>\n",
       "      <td>Ciudad</td>\n",
       "      <td>17713.653537</td>\n",
       "      <td>5.576394e+06</td>\n",
       "      <td>POLYGON ((-72.31227758581905 -35.9925718638182...</td>\n",
       "    </tr>\n",
       "    <tr>\n",
       "      <th>292</th>\n",
       "      <td>Curico</td>\n",
       "      <td>Ciudad</td>\n",
       "      <td>24273.753138</td>\n",
       "      <td>1.524009e+07</td>\n",
       "      <td>POLYGON ((-71.18718180342951 -34.9643411724797...</td>\n",
       "    </tr>\n",
       "  </tbody>\n",
       "</table>\n",
       "</div>"
      ],
      "text/plain": [
       "        NOMBRE TIPO_AREA    SHAPE_Leng    SHAPE_Area  \\\n",
       "262     Coinco    Pueblo  18611.702563  2.226378e+06   \n",
       "73       Achao    Pueblo   6878.493141  1.587466e+06   \n",
       "353    Machali    Ciudad  13497.743419  3.398234e+06   \n",
       "293  Cauquenes    Ciudad  17713.653537  5.576394e+06   \n",
       "292     Curico    Ciudad  24273.753138  1.524009e+07   \n",
       "\n",
       "                                              geometry  \n",
       "262  POLYGON ((-70.99080876180511 -34.3040065762596...  \n",
       "73   POLYGON ((-73.49975728610187 -42.4676540472772...  \n",
       "353  POLYGON ((-70.64154894301808 -34.1667781555991...  \n",
       "293  POLYGON ((-72.31227758581905 -35.9925718638182...  \n",
       "292  POLYGON ((-71.18718180342951 -34.9643411724797...  "
      ]
     },
     "execution_count": 3,
     "metadata": {},
     "output_type": "execute_result"
    }
   ],
   "source": [
    "urban_areas = (gpd.read_file('../../datasets/shapefiles/urban_areas/', crs={'init': 'epsg:5361'})\n",
    "               .to_crs({'init': 'epsg:4326'}))\n",
    "urban_areas.sample(5)"
   ]
  },
  {
   "cell_type": "code",
   "execution_count": 4,
   "metadata": {},
   "outputs": [
    {
     "data": {
      "text/plain": [
       "(1, 5)"
      ]
     },
     "execution_count": 4,
     "metadata": {},
     "output_type": "execute_result"
    }
   ],
   "source": [
    "urban_areas[urban_areas.NOMBRE == 'Santiago'].shape"
   ]
  },
  {
   "cell_type": "code",
   "execution_count": 5,
   "metadata": {},
   "outputs": [
    {
     "data": {
      "text/plain": [
       "<matplotlib.axes._subplots.AxesSubplot at 0x7f441478a080>"
      ]
     },
     "execution_count": 5,
     "metadata": {},
     "output_type": "execute_result"
    },
    {
     "data": {
      "image/png": "[encoded data removed]",
      "text/plain": [
       "<Figure size 432x288 with 1 Axes>"
      ]
     },
     "metadata": {},
     "output_type": "display_data"
    }
   ],
   "source": [
    "urban_areas[urban_areas.NOMBRE == 'Santiago'].plot()"
   ]
  },
  {
   "cell_type": "markdown",
   "metadata": {},
   "source": [
    "## Santiago"
   ]
  },
  {
   "cell_type": "code",
   "execution_count": 6,
   "metadata": {},
   "outputs": [
    {
     "data": {
      "text/html": [
       "<div>\n",
       "<style scoped>\n",
       "    .dataframe tbody tr th:only-of-type {\n",
       "        vertical-align: middle;\n",
       "    }\n",
       "\n",
       "    .dataframe tbody tr th {\n",
       "        vertical-align: top;\n",
       "    }\n",
       "\n",
       "    .dataframe thead th {\n",
       "        text-align: right;\n",
       "    }\n",
       "</style>\n",
       "<table border=\"1\" class=\"dataframe\">\n",
       "  <thead>\n",
       "    <tr style=\"text-align: right;\">\n",
       "      <th></th>\n",
       "      <th>NOM_REG</th>\n",
       "      <th>NOM_PROV</th>\n",
       "      <th>NOM_COM</th>\n",
       "      <th>SHAPE_LENG</th>\n",
       "      <th>DIS_ELEC</th>\n",
       "      <th>CIR_SENA</th>\n",
       "      <th>COD_COMUNA</th>\n",
       "      <th>SHAPE_Le_1</th>\n",
       "      <th>SHAPE_Area</th>\n",
       "      <th>geometry</th>\n",
       "    </tr>\n",
       "  </thead>\n",
       "  <tbody>\n",
       "    <tr>\n",
       "      <th>0</th>\n",
       "      <td>Región de La Araucanía</td>\n",
       "      <td>Malleco</td>\n",
       "      <td>Ercilla</td>\n",
       "      <td>170675.595438</td>\n",
       "      <td>48</td>\n",
       "      <td>14</td>\n",
       "      <td>9204</td>\n",
       "      <td>170675.595706</td>\n",
       "      <td>4.979025e+08</td>\n",
       "      <td>POLYGON ((190393.2198999999 5794527.3661, 1904...</td>\n",
       "    </tr>\n",
       "    <tr>\n",
       "      <th>1</th>\n",
       "      <td>Región de La Araucanía</td>\n",
       "      <td>Malleco</td>\n",
       "      <td>Lonquimay</td>\n",
       "      <td>346907.195437</td>\n",
       "      <td>49</td>\n",
       "      <td>14</td>\n",
       "      <td>9205</td>\n",
       "      <td>346907.195899</td>\n",
       "      <td>3.932854e+09</td>\n",
       "      <td>POLYGON ((294265.5926999999 5781748.8701, 2943...</td>\n",
       "    </tr>\n",
       "    <tr>\n",
       "      <th>2</th>\n",
       "      <td>Región de La Araucanía</td>\n",
       "      <td>Malleco</td>\n",
       "      <td>Los Sauces</td>\n",
       "      <td>169844.122286</td>\n",
       "      <td>48</td>\n",
       "      <td>14</td>\n",
       "      <td>9206</td>\n",
       "      <td>169844.122239</td>\n",
       "      <td>8.519730e+08</td>\n",
       "      <td>POLYGON ((155495.1031999998 5804765.8096, 1555...</td>\n",
       "    </tr>\n",
       "    <tr>\n",
       "      <th>3</th>\n",
       "      <td>Región de La Araucanía</td>\n",
       "      <td>Malleco</td>\n",
       "      <td>Lumaco</td>\n",
       "      <td>227705.219204</td>\n",
       "      <td>48</td>\n",
       "      <td>14</td>\n",
       "      <td>9207</td>\n",
       "      <td>227705.218806</td>\n",
       "      <td>1.112643e+09</td>\n",
       "      <td>POLYGON ((159561.5301000001 5778741.6606, 1597...</td>\n",
       "    </tr>\n",
       "    <tr>\n",
       "      <th>4</th>\n",
       "      <td>Región de La Araucanía</td>\n",
       "      <td>Malleco</td>\n",
       "      <td>Purén</td>\n",
       "      <td>137030.480474</td>\n",
       "      <td>48</td>\n",
       "      <td>14</td>\n",
       "      <td>9208</td>\n",
       "      <td>137030.480353</td>\n",
       "      <td>4.654760e+08</td>\n",
       "      <td>POLYGON ((145272.5931000002 5804247.7066, 1453...</td>\n",
       "    </tr>\n",
       "  </tbody>\n",
       "</table>\n",
       "</div>"
      ],
      "text/plain": [
       "                  NOM_REG NOM_PROV     NOM_COM     SHAPE_LENG  DIS_ELEC  \\\n",
       "0  Región de La Araucanía  Malleco     Ercilla  170675.595438        48   \n",
       "1  Región de La Araucanía  Malleco   Lonquimay  346907.195437        49   \n",
       "2  Región de La Araucanía  Malleco  Los Sauces  169844.122286        48   \n",
       "3  Región de La Araucanía  Malleco      Lumaco  227705.219204        48   \n",
       "4  Región de La Araucanía  Malleco       Purén  137030.480474        48   \n",
       "\n",
       "   CIR_SENA  COD_COMUNA     SHAPE_Le_1    SHAPE_Area  \\\n",
       "0        14        9204  170675.595706  4.979025e+08   \n",
       "1        14        9205  346907.195899  3.932854e+09   \n",
       "2        14        9206  169844.122239  8.519730e+08   \n",
       "3        14        9207  227705.218806  1.112643e+09   \n",
       "4        14        9208  137030.480353  4.654760e+08   \n",
       "\n",
       "                                            geometry  \n",
       "0  POLYGON ((190393.2198999999 5794527.3661, 1904...  \n",
       "1  POLYGON ((294265.5926999999 5781748.8701, 2943...  \n",
       "2  POLYGON ((155495.1031999998 5804765.8096, 1555...  \n",
       "3  POLYGON ((159561.5301000001 5778741.6606, 1597...  \n",
       "4  POLYGON ((145272.5931000002 5804247.7066, 1453...  "
      ]
     },
     "execution_count": 6,
     "metadata": {},
     "output_type": "execute_result"
    }
   ],
   "source": [
    "municipalities = gpd.read_file('../../datasets/shapefiles/shapefile_comunas/division_comunal.shp', \n",
    "                              crs={'init': 'epsg:5361'})\n",
    "municipalities.head()"
   ]
  },
  {
   "cell_type": "code",
   "execution_count": 7,
   "metadata": {},
   "outputs": [],
   "source": [
    "municipalities['area_km2'] = municipalities.area / 1000000\n",
    "municipalities = municipalities.to_crs({'init': 'epsg:4326'})"
   ]
  },
  {
   "cell_type": "code",
   "execution_count": 8,
   "metadata": {},
   "outputs": [
    {
     "data": {
      "text/plain": [
       "(52, 11)"
      ]
     },
     "execution_count": 8,
     "metadata": {},
     "output_type": "execute_result"
    }
   ],
   "source": [
    "metropolitan_region = municipalities[municipalities.NOM_REG == 'Región Metropolitana de Santiago']\n",
    "metropolitan_region.shape"
   ]
  },
  {
   "cell_type": "code",
   "execution_count": 9,
   "metadata": {},
   "outputs": [
    {
     "data": {
      "text/plain": [
       "<matplotlib.axes._subplots.AxesSubplot at 0x7f440d8eff60>"
      ]
     },
     "execution_count": 9,
     "metadata": {},
     "output_type": "execute_result"
    },
    {
     "data": {
      "image/png": "[encoded data removed]",
      "text/plain": [
       "<Figure size 432x288 with 1 Axes>"
      ]
     },
     "metadata": {},
     "output_type": "display_data"
    }
   ],
   "source": [
    "metropolitan_region.plot()"
   ]
  },
  {
   "cell_type": "code",
   "execution_count": 10,
   "metadata": {},
   "outputs": [],
   "source": [
    "bbox = urban_areas[urban_areas.NOMBRE == 'Santiago'].envelope[385]"
   ]
  },
  {
   "cell_type": "code",
   "execution_count": 11,
   "metadata": {},
   "outputs": [
    {
     "data": {
      "text/plain": [
       "385    (POLYGON ((-70.73662882538488 -33.371762170851...\n",
       "Name: geometry, dtype: object"
      ]
     },
     "execution_count": 11,
     "metadata": {},
     "output_type": "execute_result"
    }
   ],
   "source": [
    "stgo_area = urban_areas[urban_areas.NOMBRE == 'Santiago'].geometry\n",
    "stgo_area"
   ]
  },
  {
   "cell_type": "markdown",
   "metadata": {},
   "source": [
    "This is not the idiomatic way of doing it, but using geopandas' overlays has lower quality (and unstructured) results."
   ]
  },
  {
   "cell_type": "code",
   "execution_count": 12,
   "metadata": {},
   "outputs": [
    {
     "name": "stderr",
     "output_type": "stream",
     "text": [
      "/usr/local/lib/python3.5/dist-packages/ipykernel_launcher.py:1: SettingWithCopyWarning: \n",
      "A value is trying to be set on a copy of a slice from a DataFrame.\n",
      "Try using .loc[row_indexer,col_indexer] = value instead\n",
      "\n",
      "See the caveats in the documentation: http://pandas.pydata.org/pandas-docs/stable/indexing.html#indexing-view-versus-copy\n",
      "  \"\"\"Entry point for launching an IPython kernel.\n"
     ]
    },
    {
     "data": {
      "text/plain": [
       "<matplotlib.axes._subplots.AxesSubplot at 0x7f440d90bda0>"
      ]
     },
     "execution_count": 12,
     "metadata": {},
     "output_type": "execute_result"
    },
    {
     "data": {
      "image/png": "[encoded data removed]",
      "text/plain": [
       "<Figure size 432x288 with 1 Axes>"
      ]
     },
     "metadata": {},
     "output_type": "display_data"
    }
   ],
   "source": [
    "metropolitan_region['geometry'] = metropolitan_region.geometry.map(lambda x: x.intersection(stgo_area[385]))\n",
    "urban_municipalities = metropolitan_region[metropolitan_region.area > 0].copy()\n",
    "urban_municipalities.plot()"
   ]
  },
  {
   "cell_type": "code",
   "execution_count": 13,
   "metadata": {},
   "outputs": [
    {
     "name": "stdout",
     "output_type": "stream",
     "text": [
      "mkdir: cannot create directory 'intermediate': File exists\r\n"
     ]
    }
   ],
   "source": [
    "!mkdir intermediate"
   ]
  },
  {
   "cell_type": "code",
   "execution_count": 14,
   "metadata": {},
   "outputs": [
    {
     "data": {
      "text/plain": [
       "['./intermediate/urban_municipalities.joblib.gz']"
      ]
     },
     "execution_count": 14,
     "metadata": {},
     "output_type": "execute_result"
    }
   ],
   "source": [
    "#urban_municipalities.to_file('./intermediate/urban_municipalities.shp')\n",
    "joblib.dump(urban_municipalities, './intermediate/urban_municipalities.joblib.gz')"
   ]
  },
  {
   "cell_type": "markdown",
   "metadata": {},
   "source": [
    "## Cell Network Towers\n",
    "\n",
    "\n",
    "\n",
    "This is the list of Telefónica antennas in the entire country. Note that a tower (BTS) has many antennas. We will work at the tower level."
   ]
  },
  {
   "cell_type": "code",
   "execution_count": 15,
   "metadata": {},
   "outputs": [
    {
     "name": "stdout",
     "output_type": "stream",
     "text": [
      ",cdrid,description,lat,lon,height,azimuth,tower,geometry,index_right,comuna,id,province,region\r\n",
      "0,ALDEF8X,Sargento Aldea,-33.53313333,-70.63531111,30.0,0.0,ALDEF,POINT (-70.63531111 -33.53313333),300,La Granja,13111,Santiago,Metropolitana de Santiago\r\n"
     ]
    }
   ],
   "source": [
    "!head -n 2 ../data/antennas_by_comuna.csv"
   ]
  },
  {
   "cell_type": "code",
   "execution_count": 16,
   "metadata": {},
   "outputs": [
    {
     "data": {
      "text/html": [
       "<div>\n",
       "<style scoped>\n",
       "    .dataframe tbody tr th:only-of-type {\n",
       "        vertical-align: middle;\n",
       "    }\n",
       "\n",
       "    .dataframe tbody tr th {\n",
       "        vertical-align: top;\n",
       "    }\n",
       "\n",
       "    .dataframe thead th {\n",
       "        text-align: right;\n",
       "    }\n",
       "</style>\n",
       "<table border=\"1\" class=\"dataframe\">\n",
       "  <thead>\n",
       "    <tr style=\"text-align: right;\">\n",
       "      <th></th>\n",
       "      <th>Unnamed: 0</th>\n",
       "      <th>antenna</th>\n",
       "      <th>name</th>\n",
       "      <th>lat</th>\n",
       "      <th>lon</th>\n",
       "      <th>height</th>\n",
       "      <th>azimuth</th>\n",
       "      <th>tower</th>\n",
       "      <th>municipality</th>\n",
       "      <th>province</th>\n",
       "    </tr>\n",
       "  </thead>\n",
       "  <tbody>\n",
       "    <tr>\n",
       "      <th>19528</th>\n",
       "      <td>34923</td>\n",
       "      <td>11NLIU2</td>\n",
       "      <td>11 Norte Libertad</td>\n",
       "      <td>-33.011667</td>\n",
       "      <td>-71.548722</td>\n",
       "      <td>27.0</td>\n",
       "      <td>250.0</td>\n",
       "      <td>11NLI</td>\n",
       "      <td>Vina del Mar</td>\n",
       "      <td>Valparaíso</td>\n",
       "    </tr>\n",
       "    <tr>\n",
       "      <th>23423</th>\n",
       "      <td>32326</td>\n",
       "      <td>11SEPL0</td>\n",
       "      <td>11 de Septiembre</td>\n",
       "      <td>-33.422272</td>\n",
       "      <td>-70.611108</td>\n",
       "      <td>10.0</td>\n",
       "      <td>220.0</td>\n",
       "      <td>11SEP</td>\n",
       "      <td>Providencia</td>\n",
       "      <td>Santiago</td>\n",
       "    </tr>\n",
       "    <tr>\n",
       "      <th>15015</th>\n",
       "      <td>35267</td>\n",
       "      <td>14COSU2</td>\n",
       "      <td>Ochagavia Cosite</td>\n",
       "      <td>-33.543100</td>\n",
       "      <td>-70.686000</td>\n",
       "      <td>33.0</td>\n",
       "      <td>120.0</td>\n",
       "      <td>14COS</td>\n",
       "      <td>El Bosque</td>\n",
       "      <td>Santiago</td>\n",
       "    </tr>\n",
       "    <tr>\n",
       "      <th>5054</th>\n",
       "      <td>20373</td>\n",
       "      <td>15COSU1</td>\n",
       "      <td>La Estrella Cosite</td>\n",
       "      <td>-33.442500</td>\n",
       "      <td>-70.758889</td>\n",
       "      <td>18.0</td>\n",
       "      <td>70.0</td>\n",
       "      <td>15COS</td>\n",
       "      <td>Pudahuel</td>\n",
       "      <td>Santiago</td>\n",
       "    </tr>\n",
       "    <tr>\n",
       "      <th>19609</th>\n",
       "      <td>38564</td>\n",
       "      <td>15NTFW8</td>\n",
       "      <td>15 Norte</td>\n",
       "      <td>-33.008853</td>\n",
       "      <td>-71.546814</td>\n",
       "      <td>30.0</td>\n",
       "      <td>110.0</td>\n",
       "      <td>15NTF</td>\n",
       "      <td>Vina del Mar</td>\n",
       "      <td>Valparaíso</td>\n",
       "    </tr>\n",
       "  </tbody>\n",
       "</table>\n",
       "</div>"
      ],
      "text/plain": [
       "       Unnamed: 0  antenna                name        lat        lon  height  \\\n",
       "19528       34923  11NLIU2   11 Norte Libertad -33.011667 -71.548722    27.0   \n",
       "23423       32326  11SEPL0    11 de Septiembre -33.422272 -70.611108    10.0   \n",
       "15015       35267  14COSU2    Ochagavia Cosite -33.543100 -70.686000    33.0   \n",
       "5054        20373  15COSU1  La Estrella Cosite -33.442500 -70.758889    18.0   \n",
       "19609       38564  15NTFW8            15 Norte -33.008853 -71.546814    30.0   \n",
       "\n",
       "       azimuth  tower  municipality    province  \n",
       "19528    250.0  11NLI  Vina del Mar  Valparaíso  \n",
       "23423    220.0  11SEP   Providencia    Santiago  \n",
       "15015    120.0  14COS     El Bosque    Santiago  \n",
       "5054      70.0  15COS      Pudahuel    Santiago  \n",
       "19609    110.0  15NTF  Vina del Mar  Valparaíso  "
      ]
     },
     "execution_count": 16,
     "metadata": {},
     "output_type": "execute_result"
    }
   ],
   "source": [
    "antennas = (pd.read_csv('../data/antennas_by_comuna.csv', encoding='utf-8')\n",
    "                .assign(tower=lambda x: x.cdrid.str.slice(0, 5))\n",
    "                .rename(columns={'description': 'name', 'cdrid': 'antenna', 'comuna': 'municipality'})\n",
    "                .sort_values('tower')\n",
    "                .drop(['region', 'index_right', 'id', 'geometry'], axis=1)\n",
    "                .dropna(subset=['name'])\n",
    "                .drop_duplicates(subset=['tower'])\n",
    "            )\n",
    "antennas.head()"
   ]
  },
  {
   "cell_type": "code",
   "execution_count": 17,
   "metadata": {},
   "outputs": [
    {
     "data": {
      "text/plain": [
       "(3966, 10)"
      ]
     },
     "execution_count": 17,
     "metadata": {},
     "output_type": "execute_result"
    }
   ],
   "source": [
    "antennas.shape"
   ]
  },
  {
   "cell_type": "code",
   "execution_count": 18,
   "metadata": {},
   "outputs": [
    {
     "data": {
      "text/plain": [
       "19528          POINT (-71.548722 -33.011667)\n",
       "23423          POINT (-70.611108 -33.422272)\n",
       "15015    POINT (-70.68600000000001 -33.5431)\n",
       "5054             POINT (-70.758889 -33.4425)\n",
       "19609    POINT (-71.5468138889 -33.00885277)\n",
       "dtype: object"
      ]
     },
     "execution_count": 18,
     "metadata": {},
     "output_type": "execute_result"
    }
   ],
   "source": [
    "def to_point(row):\n",
    "    return Point(row.lon, row.lat)\n",
    "\n",
    "antennas.head().apply(to_point, axis=1)"
   ]
  },
  {
   "cell_type": "code",
   "execution_count": 19,
   "metadata": {},
   "outputs": [
    {
     "data": {
      "text/html": [
       "<div>\n",
       "<style scoped>\n",
       "    .dataframe tbody tr th:only-of-type {\n",
       "        vertical-align: middle;\n",
       "    }\n",
       "\n",
       "    .dataframe tbody tr th {\n",
       "        vertical-align: top;\n",
       "    }\n",
       "\n",
       "    .dataframe thead th {\n",
       "        text-align: right;\n",
       "    }\n",
       "</style>\n",
       "<table border=\"1\" class=\"dataframe\">\n",
       "  <thead>\n",
       "    <tr style=\"text-align: right;\">\n",
       "      <th></th>\n",
       "      <th>Unnamed: 0</th>\n",
       "      <th>antenna</th>\n",
       "      <th>name</th>\n",
       "      <th>lat</th>\n",
       "      <th>lon</th>\n",
       "      <th>height</th>\n",
       "      <th>azimuth</th>\n",
       "      <th>tower</th>\n",
       "      <th>municipality</th>\n",
       "      <th>province</th>\n",
       "      <th>geometry</th>\n",
       "    </tr>\n",
       "  </thead>\n",
       "  <tbody>\n",
       "    <tr>\n",
       "      <th>19528</th>\n",
       "      <td>34923</td>\n",
       "      <td>11NLIU2</td>\n",
       "      <td>11 Norte Libertad</td>\n",
       "      <td>-33.011667</td>\n",
       "      <td>-71.548722</td>\n",
       "      <td>27.0</td>\n",
       "      <td>250.0</td>\n",
       "      <td>11NLI</td>\n",
       "      <td>Vina del Mar</td>\n",
       "      <td>Valparaíso</td>\n",
       "      <td>POINT (-71.548722 -33.011667)</td>\n",
       "    </tr>\n",
       "    <tr>\n",
       "      <th>23423</th>\n",
       "      <td>32326</td>\n",
       "      <td>11SEPL0</td>\n",
       "      <td>11 de Septiembre</td>\n",
       "      <td>-33.422272</td>\n",
       "      <td>-70.611108</td>\n",
       "      <td>10.0</td>\n",
       "      <td>220.0</td>\n",
       "      <td>11SEP</td>\n",
       "      <td>Providencia</td>\n",
       "      <td>Santiago</td>\n",
       "      <td>POINT (-70.611108 -33.422272)</td>\n",
       "    </tr>\n",
       "    <tr>\n",
       "      <th>15015</th>\n",
       "      <td>35267</td>\n",
       "      <td>14COSU2</td>\n",
       "      <td>Ochagavia Cosite</td>\n",
       "      <td>-33.543100</td>\n",
       "      <td>-70.686000</td>\n",
       "      <td>33.0</td>\n",
       "      <td>120.0</td>\n",
       "      <td>14COS</td>\n",
       "      <td>El Bosque</td>\n",
       "      <td>Santiago</td>\n",
       "      <td>POINT (-70.68600000000001 -33.5431)</td>\n",
       "    </tr>\n",
       "    <tr>\n",
       "      <th>5054</th>\n",
       "      <td>20373</td>\n",
       "      <td>15COSU1</td>\n",
       "      <td>La Estrella Cosite</td>\n",
       "      <td>-33.442500</td>\n",
       "      <td>-70.758889</td>\n",
       "      <td>18.0</td>\n",
       "      <td>70.0</td>\n",
       "      <td>15COS</td>\n",
       "      <td>Pudahuel</td>\n",
       "      <td>Santiago</td>\n",
       "      <td>POINT (-70.758889 -33.4425)</td>\n",
       "    </tr>\n",
       "    <tr>\n",
       "      <th>19609</th>\n",
       "      <td>38564</td>\n",
       "      <td>15NTFW8</td>\n",
       "      <td>15 Norte</td>\n",
       "      <td>-33.008853</td>\n",
       "      <td>-71.546814</td>\n",
       "      <td>30.0</td>\n",
       "      <td>110.0</td>\n",
       "      <td>15NTF</td>\n",
       "      <td>Vina del Mar</td>\n",
       "      <td>Valparaíso</td>\n",
       "      <td>POINT (-71.5468138889 -33.00885277)</td>\n",
       "    </tr>\n",
       "  </tbody>\n",
       "</table>\n",
       "</div>"
      ],
      "text/plain": [
       "       Unnamed: 0  antenna                name        lat        lon  height  \\\n",
       "19528       34923  11NLIU2   11 Norte Libertad -33.011667 -71.548722    27.0   \n",
       "23423       32326  11SEPL0    11 de Septiembre -33.422272 -70.611108    10.0   \n",
       "15015       35267  14COSU2    Ochagavia Cosite -33.543100 -70.686000    33.0   \n",
       "5054        20373  15COSU1  La Estrella Cosite -33.442500 -70.758889    18.0   \n",
       "19609       38564  15NTFW8            15 Norte -33.008853 -71.546814    30.0   \n",
       "\n",
       "       azimuth  tower  municipality    province  \\\n",
       "19528    250.0  11NLI  Vina del Mar  Valparaíso   \n",
       "23423    220.0  11SEP   Providencia    Santiago   \n",
       "15015    120.0  14COS     El Bosque    Santiago   \n",
       "5054      70.0  15COS      Pudahuel    Santiago   \n",
       "19609    110.0  15NTF  Vina del Mar  Valparaíso   \n",
       "\n",
       "                                  geometry  \n",
       "19528        POINT (-71.548722 -33.011667)  \n",
       "23423        POINT (-70.611108 -33.422272)  \n",
       "15015  POINT (-70.68600000000001 -33.5431)  \n",
       "5054           POINT (-70.758889 -33.4425)  \n",
       "19609  POINT (-71.5468138889 -33.00885277)  "
      ]
     },
     "execution_count": 19,
     "metadata": {},
     "output_type": "execute_result"
    }
   ],
   "source": [
    "antennas = gpd.GeoDataFrame(antennas, geometry=antennas.apply(to_point, axis=1),\n",
    "                           crs={'init': 'epsg:4326'})\n",
    "antennas.head()"
   ]
  },
  {
   "cell_type": "code",
   "execution_count": 20,
   "metadata": {},
   "outputs": [
    {
     "data": {
      "text/plain": [
       "(3966, 11)"
      ]
     },
     "execution_count": 20,
     "metadata": {},
     "output_type": "execute_result"
    }
   ],
   "source": [
    "antennas.shape"
   ]
  },
  {
   "cell_type": "code",
   "execution_count": 22,
   "metadata": {},
   "outputs": [
    {
     "data": {
      "text/html": [
       "<div>\n",
       "<style scoped>\n",
       "    .dataframe tbody tr th:only-of-type {\n",
       "        vertical-align: middle;\n",
       "    }\n",
       "\n",
       "    .dataframe tbody tr th {\n",
       "        vertical-align: top;\n",
       "    }\n",
       "\n",
       "    .dataframe thead th {\n",
       "        text-align: right;\n",
       "    }\n",
       "</style>\n",
       "<table border=\"1\" class=\"dataframe\">\n",
       "  <thead>\n",
       "    <tr style=\"text-align: right;\">\n",
       "      <th></th>\n",
       "      <th>tower</th>\n",
       "      <th>antenna</th>\n",
       "      <th>geometry</th>\n",
       "      <th>municipality</th>\n",
       "      <th>name</th>\n",
       "    </tr>\n",
       "  </thead>\n",
       "  <tbody>\n",
       "    <tr>\n",
       "      <th>642</th>\n",
       "      <td>CCY3A</td>\n",
       "      <td>CCY3AL0</td>\n",
       "      <td>POINT (-70.60588 -33.417957)</td>\n",
       "      <td>Providencia</td>\n",
       "      <td>Mall Costanera Center Est.-3</td>\n",
       "    </tr>\n",
       "    <tr>\n",
       "      <th>3776</th>\n",
       "      <td>TSMAQ</td>\n",
       "      <td>TSMAQU9</td>\n",
       "      <td>POINT (-70.583889 -33.371667)</td>\n",
       "      <td>Vitacura</td>\n",
       "      <td>Traslado Santa Maria de Manquehue</td>\n",
       "    </tr>\n",
       "    <tr>\n",
       "      <th>3178</th>\n",
       "      <td>REIG1</td>\n",
       "      <td>REIG1U2</td>\n",
       "      <td>POINT (-70.5527 -33.4468)</td>\n",
       "      <td>La Reina</td>\n",
       "      <td>La Reina</td>\n",
       "    </tr>\n",
       "    <tr>\n",
       "      <th>39</th>\n",
       "      <td>ACA1E</td>\n",
       "      <td>ACA1EW1</td>\n",
       "      <td>POINT (-70.54533000000001 -33.39104)</td>\n",
       "      <td>Las Condes</td>\n",
       "      <td>Mall Alto las Condes</td>\n",
       "    </tr>\n",
       "    <tr>\n",
       "      <th>2575</th>\n",
       "      <td>NLYON</td>\n",
       "      <td>NLYONU3</td>\n",
       "      <td>POINT (-70.612533 -33.421375)</td>\n",
       "      <td>Providencia</td>\n",
       "      <td>Nueva de Lyon</td>\n",
       "    </tr>\n",
       "  </tbody>\n",
       "</table>\n",
       "</div>"
      ],
      "text/plain": [
       "      tower  antenna                              geometry municipality  \\\n",
       "642   CCY3A  CCY3AL0          POINT (-70.60588 -33.417957)  Providencia   \n",
       "3776  TSMAQ  TSMAQU9         POINT (-70.583889 -33.371667)     Vitacura   \n",
       "3178  REIG1  REIG1U2             POINT (-70.5527 -33.4468)     La Reina   \n",
       "39    ACA1E  ACA1EW1  POINT (-70.54533000000001 -33.39104)   Las Condes   \n",
       "2575  NLYON  NLYONU3         POINT (-70.612533 -33.421375)  Providencia   \n",
       "\n",
       "                                   name  \n",
       "642        Mall Costanera Center Est.-3  \n",
       "3776  Traslado Santa Maria de Manquehue  \n",
       "3178                           La Reina  \n",
       "39                 Mall Alto las Condes  \n",
       "2575                      Nueva de Lyon  "
      ]
     },
     "execution_count": 22,
     "metadata": {},
     "output_type": "execute_result"
    }
   ],
   "source": [
    "antennas_stgo = (gpd.tools.sjoin(antennas.drop(['municipality', 'province'], axis=1).reset_index(), \n",
    "                                 urban_municipalities.loc[:,('geometry','NOM_COM')], \n",
    "                                 how='inner', op='within')\n",
    "                 .rename(columns={'NOM_COM': 'municipality'})\n",
    "                 .loc[:,('tower', 'antenna', 'geometry', 'municipality', 'name')]\n",
    "                 #.drop_duplicates(subset=['tower'], keep='first')\n",
    "                )\n",
    "antennas_stgo.sample(5)"
   ]
  },
  {
   "cell_type": "code",
   "execution_count": 23,
   "metadata": {},
   "outputs": [
    {
     "data": {
      "text/plain": [
       "(1374, 5)"
      ]
     },
     "execution_count": 23,
     "metadata": {},
     "output_type": "execute_result"
    }
   ],
   "source": [
    "antennas_stgo.shape"
   ]
  },
  {
   "cell_type": "code",
   "execution_count": 25,
   "metadata": {},
   "outputs": [
    {
     "data": {
      "text/plain": [
       "<matplotlib.axes._subplots.AxesSubplot at 0x7f436a083ba8>"
      ]
     },
     "execution_count": 25,
     "metadata": {},
     "output_type": "execute_result"
    },
    {
     "data": {
      "image/png": "[encoded data removed]",
      "text/plain": [
       "<Figure size 432x288 with 1 Axes>"
      ]
     },
     "metadata": {},
     "output_type": "display_data"
    }
   ],
   "source": [
    "antennas_stgo.plot()"
   ]
  },
  {
   "cell_type": "code",
   "execution_count": 24,
   "metadata": {},
   "outputs": [
    {
     "data": {
      "text/plain": [
       "['./intermediate/urban_towers.joblib.gz']"
      ]
     },
     "execution_count": 24,
     "metadata": {},
     "output_type": "execute_result"
    }
   ],
   "source": [
    "joblib.dump(antennas_stgo, './intermediate/urban_towers.joblib.gz')"
   ]
  }
 ],
 "metadata": {
  "anaconda-cloud": {},
  "kernelspec": {
   "display_name": "Python 3.5 (Ubuntu 16.04)",
   "language": "python",
   "name": "python3-ubuntu"
  },
  "language_info": {
   "codemirror_mode": {
    "name": "ipython",
    "version": 3
   },
   "file_extension": ".py",
   "mimetype": "text/x-python",
   "name": "python",
   "nbconvert_exporter": "python",
   "pygments_lexer": "ipython3",
   "version": "3.5.2"
  }
 },
 "nbformat": 4,
 "nbformat_minor": 2
}
