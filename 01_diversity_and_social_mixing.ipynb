{
 "cells": [
  {
   "cell_type": "code",
   "execution_count": null,
   "metadata": {},
   "outputs": [],
   "source": [
    "%load_ext autoreload\n",
    "%autoreload 2"
   ]
  },
  {
   "cell_type": "code",
   "execution_count": 1,
   "metadata": {},
   "outputs": [],
   "source": [
    "import pandas as pd\n",
    "import geopandas as gpd\n",
    "import seaborn as sns\n",
    "import matplotlib.pyplot as plt\n",
    "%matplotlib inline\n",
    "sns.set(context='poster', style='whitegrid', palette='viridis')\n",
    "import joblib"
   ]
  },
  {
   "cell_type": "code",
   "execution_count": 3,
   "metadata": {},
   "outputs": [],
   "source": [
    "antennas = joblib.load('./intermediate/urban_towers.joblib.gz')"
   ]
  },
  {
   "cell_type": "code",
   "execution_count": 4,
   "metadata": {},
   "outputs": [
    {
     "data": {
      "text/plain": [
       "Index(['tower', 'antenna', 'geometry', 'municipality', 'name'], dtype='object')"
      ]
     },
     "execution_count": 4,
     "metadata": {},
     "output_type": "execute_result"
    }
   ],
   "source": [
    "antennas.columns"
   ]
  },
  {
   "cell_type": "code",
   "execution_count": 5,
   "metadata": {},
   "outputs": [
    {
     "ename": "AttributeError",
     "evalue": "'GeoDataFrame' object has no attribute 'intext'",
     "output_type": "error",
     "traceback": [
      "\u001b[0;31m---------------------------------------------------------------------------\u001b[0m",
      "\u001b[0;31mAttributeError\u001b[0m                            Traceback (most recent call last)",
      "\u001b[0;32m<ipython-input-5-4946f5471048>\u001b[0m in \u001b[0;36m<module>\u001b[0;34m()\u001b[0m\n\u001b[0;32m----> 1\u001b[0;31m \u001b[0;36m481\u001b[0m \u001b[0;34m/\u001b[0m \u001b[0mantennas\u001b[0m\u001b[0;34m.\u001b[0m\u001b[0mshape\u001b[0m\u001b[0;34m[\u001b[0m\u001b[0;36m0\u001b[0m \u001b[0;34m*\u001b[0m \u001b[0;36m100\u001b[0m\u001b[0;34m]\u001b[0m\u001b[0;34m,\u001b[0m \u001b[0;36m481\u001b[0m \u001b[0;34m/\u001b[0m \u001b[0mantennas\u001b[0m\u001b[0;34m[\u001b[0m\u001b[0mantennas\u001b[0m\u001b[0;34m.\u001b[0m\u001b[0mintext\u001b[0m\u001b[0;34m]\u001b[0m\u001b[0;34m.\u001b[0m\u001b[0mshape\u001b[0m\u001b[0;34m[\u001b[0m\u001b[0;36m0\u001b[0m \u001b[0;34m*\u001b[0m \u001b[0;36m100\u001b[0m\u001b[0;34m]\u001b[0m\u001b[0;34m\u001b[0m\u001b[0m\n\u001b[0m",
      "\u001b[0;32m/usr/local/lib/python3.5/dist-packages/pandas/core/generic.py\u001b[0m in \u001b[0;36m__getattr__\u001b[0;34m(self, name)\u001b[0m\n\u001b[1;32m   3612\u001b[0m             \u001b[0;32mif\u001b[0m \u001b[0mname\u001b[0m \u001b[0;32min\u001b[0m \u001b[0mself\u001b[0m\u001b[0;34m.\u001b[0m\u001b[0m_info_axis\u001b[0m\u001b[0;34m:\u001b[0m\u001b[0;34m\u001b[0m\u001b[0m\n\u001b[1;32m   3613\u001b[0m                 \u001b[0;32mreturn\u001b[0m \u001b[0mself\u001b[0m\u001b[0;34m[\u001b[0m\u001b[0mname\u001b[0m\u001b[0;34m]\u001b[0m\u001b[0;34m\u001b[0m\u001b[0m\n\u001b[0;32m-> 3614\u001b[0;31m             \u001b[0;32mreturn\u001b[0m \u001b[0mobject\u001b[0m\u001b[0;34m.\u001b[0m\u001b[0m__getattribute__\u001b[0m\u001b[0;34m(\u001b[0m\u001b[0mself\u001b[0m\u001b[0;34m,\u001b[0m \u001b[0mname\u001b[0m\u001b[0;34m)\u001b[0m\u001b[0;34m\u001b[0m\u001b[0m\n\u001b[0m\u001b[1;32m   3615\u001b[0m \u001b[0;34m\u001b[0m\u001b[0m\n\u001b[1;32m   3616\u001b[0m     \u001b[0;32mdef\u001b[0m \u001b[0m__setattr__\u001b[0m\u001b[0;34m(\u001b[0m\u001b[0mself\u001b[0m\u001b[0;34m,\u001b[0m \u001b[0mname\u001b[0m\u001b[0;34m,\u001b[0m \u001b[0mvalue\u001b[0m\u001b[0;34m)\u001b[0m\u001b[0;34m:\u001b[0m\u001b[0;34m\u001b[0m\u001b[0m\n",
      "\u001b[0;31mAttributeError\u001b[0m: 'GeoDataFrame' object has no attribute 'intext'"
     ]
    }
   ],
   "source": [
    "481 / antennas.shape[0 * 100], 481 / antennas[antennas.intext].shape[0 * 100]"
   ]
  },
  {
   "cell_type": "code",
   "execution_count": null,
   "metadata": {},
   "outputs": [],
   "source": [
    "antennas.shape, antennas.tower.unique().shape"
   ]
  },
  {
   "cell_type": "code",
   "execution_count": null,
   "metadata": {},
   "outputs": [],
   "source": [
    "antennas.plot(markersize=1)"
   ]
  },
  {
   "cell_type": "code",
   "execution_count": null,
   "metadata": {},
   "outputs": [],
   "source": [
    "municipalities = joblib.load('./intermediate/urban_municipalities.joblib.gz')\n",
    "municipalities.plot()"
   ]
  },
  {
   "cell_type": "code",
   "execution_count": null,
   "metadata": {},
   "outputs": [],
   "source": [
    "municipalities.COD_COMUNA.unique()"
   ]
  },
  {
   "cell_type": "code",
   "execution_count": null,
   "metadata": {},
   "outputs": [],
   "source": [
    "name_map = dict(zip([13101, 13102, 13103\n",
    "    ,13104,13105,13106,13107,13108,13109,13110,13111,13112,13113,13114,13115,13116,13117,13118,13119,13120,13121,13122,13123\n",
    "    ,13124,13125,13126,13127,13128,13129,13130,13131,13132,13201,13202,13203,13301,13302,13303,13401,13402,13403,13404,13501,\n",
    "                     13502, 13503, 13504, 13505, 13601, 13602, 13603, 13604, 13605],\n",
    "        map(lambda x: x.title(), ['Santiago', 'Cerrillos', 'Cerro Navia', 'Conchalí',\n",
    "        'El Bosque', 'Estación Central', 'Huechuraba', 'Independencia', 'La Cisterna',\n",
    "        'La Florida', 'La Granja', 'La Pintana',\n",
    "        'La Reina','Las Condes','Lo Barnechea','Lo Espejo', 'Lo Prado',\n",
    "        'Macul','Maipú','Ñuñoa','Pedro Aguirre Cerda','Peñalolén',\n",
    "        'Providencia','Pudahuel','Quilicura','Quinta Normal','Recoleta','Renca',\n",
    "        'San Joaquín','San Miguel','San Ramón','Vitacura','Puente Alto','Pirque',\n",
    "        'San José de Maipo','Colina','Lampa','Tiltil','San Bernardo','Buin',\n",
    "        'Calera de Tango','Paine','Melipilla','Alhué','Curacaví','María Pinto','San Pedro',\n",
    "        'Talagante','El Monte','Isla de Maipo','Padre Hurtado','Peñaflor'\n",
    "        ])))\n",
    "\n",
    "hdi = pd.read_csv('./intermediate/HDI_2013_Comuna.csv', index_col=False)\n",
    "# aquí aplicamos la transformación y guardamos el resultado en una nueva columna\n",
    "hdi['NOM_COM'] = hdi['comuna'].map(lambda x: name_map[x])\n",
    "hdi.set_index('NOM_COM', inplace=True)\n",
    "hdi"
   ]
  },
  {
   "cell_type": "code",
   "execution_count": null,
   "metadata": {},
   "outputs": [],
   "source": [
    "tower_hdi = antennas.join(hdi.HDI_2013, on='municipality').groupby('tower').aggregate({'HDI_2013': 'mean'}).join(antennas.drop_duplicates(subset='tower').loc[:,('tower', 'municipality')].set_index('tower'))\n",
    "tower_hdi.sample(5)"
   ]
  },
  {
   "cell_type": "code",
   "execution_count": null,
   "metadata": {},
   "outputs": [],
   "source": [
    "from shapely.geometry import Point\n",
    "\n",
    "malls  = pd.read_csv('./input/malls_list.csv')\n",
    "malls['geometry'] = malls.apply(lambda x: Point(x.lon_x, x.lat_x), axis=1)\n",
    "malls = gpd.GeoDataFrame(malls, geometry='geometry', crs={'init': 'epsg:4326'})\n",
    "malls"
   ]
  },
  {
   "cell_type": "code",
   "execution_count": null,
   "metadata": {},
   "outputs": [],
   "source": [
    "malls.set_index('mall_id', inplace=True)"
   ]
  },
  {
   "cell_type": "code",
   "execution_count": null,
   "metadata": {},
   "outputs": [],
   "source": [
    "ax = municipalities.join(hdi.HDI_2013, on='NOM_COM').plot(column='HDI_2013', legend=True, \n",
    "                                                                   figsize=(12,12), cmap='viridis',\n",
    "                                                                   edgecolor='white', linewidth=1.5)\n",
    "plt.title('HDI of Municipalities in Santiago, Chile')\n",
    "plt.axis('equal');\n",
    "plt.savefig('./output/municipalities_hdi.png', dpi=100, bbox_inches='tight')"
   ]
  },
  {
   "cell_type": "markdown",
   "metadata": {},
   "source": [
    "These files come from another project. Meanwhile, I just copy them here."
   ]
  },
  {
   "cell_type": "code",
   "execution_count": null,
   "metadata": {},
   "outputs": [],
   "source": [
    "highways = joblib.load('./intermediate/highways.joblib.gz')\n",
    "railways = joblib.load('./intermediate/railways.joblib.gz')\n",
    "primary = joblib.load('./intermediate/primary_streets.joblib.gz')"
   ]
  },
  {
   "cell_type": "code",
   "execution_count": null,
   "metadata": {},
   "outputs": [],
   "source": [
    "import matplotlib.patches as mpatches\n",
    "import matplotlib.lines as mlines\n",
    "import matplotlib.markers as mmarkers\n",
    "#mpatches.CirclePolygon(color='#8da0cb', edgecolor='black')"
   ]
  },
  {
   "cell_type": "code",
   "execution_count": null,
   "metadata": {},
   "outputs": [],
   "source": [
    "plt.figure(figsize=(16,16))\n",
    "\n",
    "ax = plt.gca()\n",
    "\n",
    "municipalities.plot(color='#EFEFEF', edgecolor='#EFEFEF', ax=ax)\n",
    "highways.plot(ax=ax, color='black', alpha=0.95, linewidth=1.5)\n",
    "primary.plot(ax=ax, color='#66c2a5', alpha=0.95, linewidth=1)\n",
    "\n",
    "ax.set_title('Highways and Primary Streets (OSM)')\n",
    "ax.set_axis_off()\n",
    "ax.set_aspect('equal')\n",
    "railways[pd.isnull(railways.service)].plot(color='#fc8d62', ax=ax, linewidth=3)\n",
    "\n",
    "malls.plot(ax=ax, color='#8da0cb', edgecolor='black', zorder=30, linewidth=1.)\n",
    "\n",
    "handles = []\n",
    "handles.append(mlines.Line2D([], [], color='black', linewidth=1.5, label='Highways'))\n",
    "handles.append(mlines.Line2D([], [], color='#66c2a5', linewidth=1, label='Primary Streets'))\n",
    "handles.append(mlines.Line2D([], [], color='#fc8d62', linewidth=3, label='Metro Network'))\n",
    "handles.append(mpatches.Circle([0.0, 0.0], radius=4, color='#8da0cb', edgecolor='black', label='Malls'))\n",
    "\n",
    "plt.legend(handles=handles, loc='lower left')\n",
    "\n",
    "plt.savefig('./output/santiago_urban_network.png', dpi=100, bbox_inches='tight')"
   ]
  },
  {
   "cell_type": "code",
   "execution_count": null,
   "metadata": {},
   "outputs": [],
   "source": [
    "users = pd.read_csv('input/user_mall.tar.gz').set_index('user_mall.csv')\n",
    "users.head()"
   ]
  },
  {
   "cell_type": "code",
   "execution_count": null,
   "metadata": {},
   "outputs": [],
   "source": [
    "user_hdi = pd.read_csv('intermediate/userHomeAntenna.csv').set_index('num_from').join(tower_hdi, on='tower_in')\n",
    "user_hdi.head()"
   ]
  },
  {
   "cell_type": "code",
   "execution_count": null,
   "metadata": {},
   "outputs": [],
   "source": [
    "user_hdi['hdi_quantile'] = pd.qcut(user_hdi.HDI_2013, 5, labels=False)"
   ]
  },
  {
   "cell_type": "code",
   "execution_count": null,
   "metadata": {},
   "outputs": [],
   "source": [
    "print(pd.qcut(user_hdi.HDI_2013, 5).value_counts(sort=False).to_latex())"
   ]
  },
  {
   "cell_type": "code",
   "execution_count": null,
   "metadata": {},
   "outputs": [],
   "source": [
    "df = users.join(user_hdi, how='inner').dropna()\n",
    "df.sample(5)"
   ]
  },
  {
   "cell_type": "code",
   "execution_count": null,
   "metadata": {},
   "outputs": [],
   "source": [
    "df.index.unique().shape"
   ]
  },
  {
   "cell_type": "code",
   "execution_count": null,
   "metadata": {},
   "outputs": [],
   "source": [
    "df.shape"
   ]
  },
  {
   "cell_type": "code",
   "execution_count": null,
   "metadata": {},
   "outputs": [],
   "source": [
    "df = df.join(malls.description_x, on='mall_id')"
   ]
  },
  {
   "cell_type": "code",
   "execution_count": null,
   "metadata": {},
   "outputs": [],
   "source": [
    "df.columns"
   ]
  },
  {
   "cell_type": "code",
   "execution_count": null,
   "metadata": {},
   "outputs": [],
   "source": [
    "df.sample(3)"
   ]
  },
  {
   "cell_type": "code",
   "execution_count": null,
   "metadata": {},
   "outputs": [],
   "source": [
    "mall_muni = (df.groupby(['description_x', 'municipality']).size()\n",
    "             .reset_index()\n",
    "             .pivot(index='description_x', columns='municipality')\n",
    "             .fillna(0)\n",
    "             .pipe(lambda x: x.div(x.sum(axis=1), axis=0)))"
   ]
  },
  {
   "cell_type": "code",
   "execution_count": null,
   "metadata": {},
   "outputs": [],
   "source": [
    "mall_muni.head()"
   ]
  },
  {
   "cell_type": "code",
   "execution_count": null,
   "metadata": {},
   "outputs": [],
   "source": [
    "mall_muni.columns = mall_muni.columns.get_level_values(1)"
   ]
  },
  {
   "cell_type": "code",
   "execution_count": null,
   "metadata": {},
   "outputs": [],
   "source": [
    "g = sns.clustermap(mall_muni * 100, metric='correlation', method='ward', linewidth=1, \n",
    "                   cmap='magma_r', figsize=(20,11), annot=True)\n",
    "g.ax_heatmap.set_ylabel('Mall')\n",
    "g.ax_heatmap.set_xlabel('Comuna (Municipality)')\n",
    "g.cax.set_title('Percent of Visitors from each Municipality', loc='left')\n",
    "g.savefig('./output/municipality_mall_matrix.png', dpi=100, bbox_inches='tight')"
   ]
  },
  {
   "cell_type": "code",
   "execution_count": null,
   "metadata": {},
   "outputs": [],
   "source": [
    "plt.figure(figsize=(17,9))\n",
    "sns.heatmap(g.data2d * 100, linewidth=1, cmap='magma_r', square=True, annot=True,\n",
    "           cbar_kws={'shrink': 0.25, 'fraction': 0.05}, cbar=False)\n",
    "plt.xlabel('Comuna (Municipality)')\n",
    "plt.ylabel('')\n",
    "#g.ax_heatmap.set_ylabel('Mall')\n",
    "#g.ax_heatmap.set_xlabel('Comuna (Municipality)')\n",
    "#plt.savefig('./output/municipality_mall_matrix.png', dpi=100, bbox_inches='tight')"
   ]
  },
  {
   "cell_type": "code",
   "execution_count": null,
   "metadata": {},
   "outputs": [],
   "source": [
    "from scipy.stats import entropy\n",
    "\n",
    "mall_entropy = entropy(mall_muni.T)\n",
    "\n",
    "mall_entropy.shape"
   ]
  },
  {
   "cell_type": "code",
   "execution_count": null,
   "metadata": {},
   "outputs": [],
   "source": [
    "mall_entropy = pd.Series(mall_entropy, index=mall_muni.index, name='entropy').sort_values()\n",
    "mall_entropy"
   ]
  },
  {
   "cell_type": "code",
   "execution_count": null,
   "metadata": {},
   "outputs": [],
   "source": [
    "malls = malls.join(mall_entropy, on='description_x')"
   ]
  },
  {
   "cell_type": "code",
   "execution_count": null,
   "metadata": {},
   "outputs": [],
   "source": [
    "malls = gpd.sjoin(malls, municipalities.loc[:,('geometry', 'NOM_COM')], how='left', op='within')"
   ]
  },
  {
   "cell_type": "code",
   "execution_count": null,
   "metadata": {},
   "outputs": [],
   "source": [
    "malls = malls.join(hdi.HDI_2013, on='NOM_COM')"
   ]
  },
  {
   "cell_type": "code",
   "execution_count": null,
   "metadata": {},
   "outputs": [],
   "source": [
    "malls['NOM_COM'].loc[18.0] = 'Huechuraba'\n",
    "malls['HDI_2013'].loc[18.0] = 0.712375"
   ]
  },
  {
   "cell_type": "code",
   "execution_count": null,
   "metadata": {},
   "outputs": [],
   "source": [
    "malls"
   ]
  },
  {
   "cell_type": "code",
   "execution_count": null,
   "metadata": {},
   "outputs": [],
   "source": [
    "sns.jointplot('entropy', 'HDI_2013', malls)"
   ]
  },
  {
   "cell_type": "code",
   "execution_count": null,
   "metadata": {},
   "outputs": [],
   "source": [
    "df = df.join(malls.HDI_2013, on='mall_id', rsuffix='_mall')"
   ]
  },
  {
   "cell_type": "code",
   "execution_count": null,
   "metadata": {},
   "outputs": [],
   "source": [
    "df.columns"
   ]
  },
  {
   "cell_type": "code",
   "execution_count": null,
   "metadata": {},
   "outputs": [],
   "source": [
    "df.groupby('mall_id').size()"
   ]
  },
  {
   "cell_type": "code",
   "execution_count": null,
   "metadata": {},
   "outputs": [],
   "source": [
    "df['HDI_2013'].describe()"
   ]
  },
  {
   "cell_type": "code",
   "execution_count": null,
   "metadata": {},
   "outputs": [],
   "source": [
    "df['delta_hdi'] = (df['HDI_2013_mall'] - df['HDI_2013']) / df['number_days']"
   ]
  },
  {
   "cell_type": "code",
   "execution_count": null,
   "metadata": {},
   "outputs": [],
   "source": [
    "delta_hdi_users = df.reset_index().groupby('index').aggregate({'delta_hdi': 'mean', 'HDI_2013': 'mean'})"
   ]
  },
  {
   "cell_type": "code",
   "execution_count": null,
   "metadata": {},
   "outputs": [],
   "source": [
    "g = sns.jointplot('HDI_2013', 'delta_hdi', delta_hdi_users, size=8, space=0.1, joint_kws={'alpha': 0.01, 'marker': '.'})"
   ]
  },
  {
   "cell_type": "code",
   "execution_count": null,
   "metadata": {},
   "outputs": [],
   "source": [
    "delta_hdi_malls = df.groupby('description_x').aggregate({'delta_hdi': 'mean', 'HDI_2013': 'mean'})"
   ]
  },
  {
   "cell_type": "code",
   "execution_count": null,
   "metadata": {},
   "outputs": [],
   "source": [
    "delta_hdi_malls"
   ]
  },
  {
   "cell_type": "code",
   "execution_count": null,
   "metadata": {},
   "outputs": [],
   "source": [
    "g = sns.jointplot('HDI_2013', 'delta_hdi', delta_hdi_malls.dropna(), size=8, space=0.1)"
   ]
  },
  {
   "cell_type": "code",
   "execution_count": null,
   "metadata": {},
   "outputs": [],
   "source": [
    "delta_hdi_muni = df.groupby('municipality').aggregate({'delta_hdi': 'mean'}).join(hdi.HDI_2013)"
   ]
  },
  {
   "cell_type": "code",
   "execution_count": null,
   "metadata": {},
   "outputs": [],
   "source": [
    "sns.set_style('white')\n",
    "g = sns.jointplot('HDI_2013', 'delta_hdi', delta_hdi_muni, size=8, space=0.1)\n",
    "g.ax_joint.set_ylabel('HDI (Comuna)')\n",
    "g.ax_joint.set_xlabel('HDI Diff. of Mall Visits by Residents');\n",
    "g.savefig('./output/municipality_hdi_differences.png', dpi=100, bbox_inches='tight')"
   ]
  },
  {
   "cell_type": "code",
   "execution_count": null,
   "metadata": {},
   "outputs": [],
   "source": [
    "reg_colors = sns.color_palette('viridis', n_colors=3)"
   ]
  },
  {
   "cell_type": "code",
   "execution_count": null,
   "metadata": {},
   "outputs": [],
   "source": [
    "sns.set_style('whitegrid')\n",
    "fig, axes = plt.subplots(1, 3, figsize=(17,6), sharey=True)\n",
    "\n",
    "ax = axes[0]\n",
    "_d = delta_hdi_users.dropna()\n",
    "sns.regplot(_d.HDI_2013.values, _d.delta_hdi.values, ax=ax, marker='.', color=reg_colors[0],\n",
    "            scatter_kws={'alpha': 0.005, 'color': 'grey'})\n",
    "sns.despine(ax=ax)\n",
    "ax.set_ylabel('HDI(Comuna of Resid.) - HDI(Visited Mall)')\n",
    "ax.set_xlabel('(a) HDI(Comuna of Residence)')\n",
    "\n",
    "ax = axes[1]\n",
    "_d = delta_hdi_malls.dropna()\n",
    "sns.regplot(_d.HDI_2013.values, _d.delta_hdi.values, ax=ax,  color=reg_colors[1],\n",
    "            scatter_kws={'alpha': 0.9, 'color': 'grey'})\n",
    "sns.despine(ax=ax)\n",
    "ax.set_xlabel('(b) Average HDI(Mall Location)')\n",
    "\n",
    "ax = axes[2]\n",
    "_d = delta_hdi_muni.dropna()\n",
    "sns.regplot(_d.HDI_2013.values, _d.delta_hdi.values, ax=ax,  color=reg_colors[2],\n",
    "            scatter_kws={'alpha': 0.9, 'color': 'grey'})\n",
    "sns.despine(ax=ax)\n",
    "ax.set_xlabel('(b) Average HDI(Comuna)')\n",
    "\n",
    "plt.subplots_adjust(wspace=0.1)\n",
    "plt.savefig('./output/hdi_scatters.png', bbox_inches='tight', dpi=100)"
   ]
  },
  {
   "cell_type": "code",
   "execution_count": null,
   "metadata": {},
   "outputs": [],
   "source": [
    "sns.set_style('white')"
   ]
  },
  {
   "cell_type": "code",
   "execution_count": null,
   "metadata": {},
   "outputs": [],
   "source": [
    "df.sample(3)"
   ]
  },
  {
   "cell_type": "markdown",
   "metadata": {},
   "source": [
    "N = total individuos\n",
    "n_t = total individuos que visitaron mall t\n",
    "N_alpha = total de individuos en cat alpha\n",
    "n_alpha_t = total de individuos en cat alpha que visitan un mall t\n",
    "r_beta = (n_beta_t / N_beta) / (n_t / N)\n",
    "exp = 1 / N_alpha * sum n_alpha * r_beta"
   ]
  },
  {
   "cell_type": "code",
   "execution_count": null,
   "metadata": {},
   "outputs": [],
   "source": [
    "df.shape, df.dropna().shape"
   ]
  },
  {
   "cell_type": "code",
   "execution_count": null,
   "metadata": {},
   "outputs": [],
   "source": [
    "df_nn = df.dropna()\n",
    "df_nn.sample(5)"
   ]
  },
  {
   "cell_type": "code",
   "execution_count": null,
   "metadata": {},
   "outputs": [],
   "source": [
    "import marble as mb"
   ]
  },
  {
   "cell_type": "code",
   "execution_count": null,
   "metadata": {},
   "outputs": [],
   "source": [
    "city_malls = {}\n",
    "\n",
    "quantiles = df_nn.hdi_quantile.unique()\n",
    "\n",
    "for idx, row in malls.iterrows():\n",
    "    if idx == 18.0:\n",
    "        continue\n",
    "    city_malls[idx] = {}\n",
    "    for cat in quantiles:\n",
    "        q_name = 'Q{}'.format(int(cat) + 1)\n",
    "        city_malls[idx][q_name] = df_nn[(df_nn.mall_id == idx) & (df_nn.hdi_quantile == cat)].shape[0]\n",
    "        \n",
    "city_malls"
   ]
  },
  {
   "cell_type": "code",
   "execution_count": null,
   "metadata": {},
   "outputs": [],
   "source": [
    "exp = mb.exposure(city_malls)"
   ]
  },
  {
   "cell_type": "code",
   "execution_count": null,
   "metadata": {},
   "outputs": [],
   "source": [
    "records = []\n",
    "\n",
    "for alpha, exp_beta in exp.items():\n",
    "    for beta, values in exp_beta.items():\n",
    "        records.append({'source': alpha, 'target': beta, 'exposure': values[0], 'variance': values[1]})\n",
    "        \n",
    "records = pd.DataFrame(records)\n",
    "records"
   ]
  },
  {
   "cell_type": "code",
   "execution_count": null,
   "metadata": {},
   "outputs": [],
   "source": [
    "# 1 + 2.57σ"
   ]
  },
  {
   "cell_type": "code",
   "execution_count": null,
   "metadata": {},
   "outputs": [],
   "source": [
    "records['std'] = records.variance.pow(0.5)"
   ]
  },
  {
   "cell_type": "code",
   "execution_count": null,
   "metadata": {},
   "outputs": [],
   "source": [
    "records['std'].describe()"
   ]
  },
  {
   "cell_type": "code",
   "execution_count": null,
   "metadata": {},
   "outputs": [],
   "source": [
    "for idx, row in records.iterrows():\n",
    "    if row.exposure > 1:\n",
    "        result = row.exposure > (1 + 2.57 * row.get('std'))\n",
    "    elif row.exposure < 1:\n",
    "        result = row.exposure < (1 - 2.57 * row.get('std'))\n",
    "    else:\n",
    "        result = 'n/a'\n",
    "    print(row.source, row.target, result)"
   ]
  },
  {
   "cell_type": "code",
   "execution_count": null,
   "metadata": {},
   "outputs": [],
   "source": [
    "sns.heatmap(pd.pivot_table(records, index='source', columns='target', values='exposure'), annot=True, center=1.0,\n",
    "           cmap='PuOr', linewidth=1)"
   ]
  },
  {
   "cell_type": "code",
   "execution_count": null,
   "metadata": {},
   "outputs": [],
   "source": [
    "x_order = ['Q{}'.format(i) for i in range(1, 6)]\n",
    "hue_order = x_order\n",
    "g = sns.factorplot(x='source', y='exposure', data=records, hue='target', hue_order=hue_order,\n",
    "               aspect=2, size=8, palette='viridis', kind='bar', order=x_order,\n",
    "                  legend_out=True)\n",
    "#g.map()\n",
    "plt.axhline(y=1, ls=\":\", c=\".5\")\n",
    "\n",
    "plt.xlabel('Source HDI Quantile')\n",
    "plt.ylabel('Exposure(Source HDI Quantile, Target HDI Quantile)')\n",
    "g.savefig('./output/hdi_exposure.png', dpi=100, bbox_inches='tight')"
   ]
  }
 ],
 "metadata": {
  "kernelspec": {
   "display_name": "Python 3.5 (Ubuntu 16.04)",
   "language": "python",
   "name": "python3-ubuntu"
  },
  "language_info": {
   "codemirror_mode": {
    "name": "ipython",
    "version": 3
   },
   "file_extension": ".py",
   "mimetype": "text/x-python",
   "name": "python",
   "nbconvert_exporter": "python",
   "pygments_lexer": "ipython3",
   "version": "3.5.2"
  }
 },
 "nbformat": 4,
 "nbformat_minor": 2
}
