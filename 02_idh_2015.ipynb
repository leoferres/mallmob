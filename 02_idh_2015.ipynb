{
 "cells": [
  {
   "cell_type": "markdown",
   "metadata": {},
   "source": [
    "# Calculating the chilean Human Development Index 2015\n",
    "\n",
    "Author: Mariano Beiró <mariano.beiro@isi.it>\n",
    "\n",
    "Contributor: Diego Caro <dcaro@udd.cl>"
   ]
  },
  {
   "cell_type": "code",
   "execution_count": 2,
   "metadata": {},
   "outputs": [],
   "source": [
    "import pandas as pd\n",
    "import numpy as np\n",
    "\n",
    "%matplotlib inline\n",
    "import matplotlib.pyplot as plt\n",
    "\n",
    "from scipy import stats"
   ]
  },
  {
   "cell_type": "code",
   "execution_count": 3,
   "metadata": {},
   "outputs": [
    {
     "data": {
      "text/html": [
       "<div>\n",
       "<style scoped>\n",
       "    .dataframe tbody tr th:only-of-type {\n",
       "        vertical-align: middle;\n",
       "    }\n",
       "\n",
       "    .dataframe tbody tr th {\n",
       "        vertical-align: top;\n",
       "    }\n",
       "\n",
       "    .dataframe thead th {\n",
       "        text-align: right;\n",
       "    }\n",
       "</style>\n",
       "<table border=\"1\" class=\"dataframe\">\n",
       "  <thead>\n",
       "    <tr style=\"text-align: right;\">\n",
       "      <th></th>\n",
       "      <th>comuna</th>\n",
       "      <th>nombre_comuna</th>\n",
       "      <th>population</th>\n",
       "      <th>idh</th>\n",
       "    </tr>\n",
       "  </thead>\n",
       "  <tbody>\n",
       "    <tr>\n",
       "      <th>0</th>\n",
       "      <td>13502</td>\n",
       "      <td>Alhué</td>\n",
       "      <td>5454</td>\n",
       "      <td>NaN</td>\n",
       "    </tr>\n",
       "    <tr>\n",
       "      <th>1</th>\n",
       "      <td>13402</td>\n",
       "      <td>Buin</td>\n",
       "      <td>78880</td>\n",
       "      <td>NaN</td>\n",
       "    </tr>\n",
       "    <tr>\n",
       "      <th>2</th>\n",
       "      <td>13403</td>\n",
       "      <td>Calera de Tango</td>\n",
       "      <td>23152</td>\n",
       "      <td>NaN</td>\n",
       "    </tr>\n",
       "    <tr>\n",
       "      <th>3</th>\n",
       "      <td>13102</td>\n",
       "      <td>Cerrillos</td>\n",
       "      <td>82574</td>\n",
       "      <td>0.743</td>\n",
       "    </tr>\n",
       "    <tr>\n",
       "      <th>4</th>\n",
       "      <td>13103</td>\n",
       "      <td>Cerro Navia</td>\n",
       "      <td>157412</td>\n",
       "      <td>0.683</td>\n",
       "    </tr>\n",
       "  </tbody>\n",
       "</table>\n",
       "</div>"
      ],
      "text/plain": [
       "   comuna    nombre_comuna  population    idh\n",
       "0   13502            Alhué        5454    NaN\n",
       "1   13402             Buin       78880    NaN\n",
       "2   13403  Calera de Tango       23152    NaN\n",
       "3   13102        Cerrillos       82574  0.743\n",
       "4   13103      Cerro Navia      157412  0.683"
      ]
     },
     "execution_count": 3,
     "metadata": {},
     "output_type": "execute_result"
    }
   ],
   "source": [
    "comunas = pd.read_csv(\"input/datos_por_comuna.csv\", sep=';', names=['comuna', 'nombre_comuna', 'population','idh'])\n",
    "comunas.head()"
   ]
  },
  {
   "cell_type": "code",
   "execution_count": 4,
   "metadata": {},
   "outputs": [
    {
     "data": {
      "text/html": [
       "<div>\n",
       "<style scoped>\n",
       "    .dataframe tbody tr th:only-of-type {\n",
       "        vertical-align: middle;\n",
       "    }\n",
       "\n",
       "    .dataframe tbody tr th {\n",
       "        vertical-align: top;\n",
       "    }\n",
       "\n",
       "    .dataframe thead th {\n",
       "        text-align: right;\n",
       "    }\n",
       "</style>\n",
       "<table border=\"1\" class=\"dataframe\">\n",
       "  <thead>\n",
       "    <tr style=\"text-align: right;\">\n",
       "      <th></th>\n",
       "      <th>nombre_comuna</th>\n",
       "      <th>EI</th>\n",
       "      <th>comuna</th>\n",
       "      <th>population</th>\n",
       "      <th>idh</th>\n",
       "    </tr>\n",
       "  </thead>\n",
       "  <tbody>\n",
       "    <tr>\n",
       "      <th>0</th>\n",
       "      <td>Santiago</td>\n",
       "      <td>13.861480</td>\n",
       "      <td>13101</td>\n",
       "      <td>318253</td>\n",
       "      <td>0.807</td>\n",
       "    </tr>\n",
       "    <tr>\n",
       "      <th>1</th>\n",
       "      <td>Cerrillos</td>\n",
       "      <td>10.702480</td>\n",
       "      <td>13102</td>\n",
       "      <td>82574</td>\n",
       "      <td>0.743</td>\n",
       "    </tr>\n",
       "    <tr>\n",
       "      <th>2</th>\n",
       "      <td>Cerro Navia</td>\n",
       "      <td>9.869413</td>\n",
       "      <td>13103</td>\n",
       "      <td>157412</td>\n",
       "      <td>0.683</td>\n",
       "    </tr>\n",
       "    <tr>\n",
       "      <th>3</th>\n",
       "      <td>Conchalí</td>\n",
       "      <td>10.581390</td>\n",
       "      <td>13104</td>\n",
       "      <td>140561</td>\n",
       "      <td>0.707</td>\n",
       "    </tr>\n",
       "    <tr>\n",
       "      <th>4</th>\n",
       "      <td>El Bosque</td>\n",
       "      <td>10.108140</td>\n",
       "      <td>13105</td>\n",
       "      <td>191541</td>\n",
       "      <td>0.711</td>\n",
       "    </tr>\n",
       "  </tbody>\n",
       "</table>\n",
       "</div>"
      ],
      "text/plain": [
       "  nombre_comuna         EI  comuna  population    idh\n",
       "0      Santiago  13.861480   13101      318253  0.807\n",
       "1     Cerrillos  10.702480   13102       82574  0.743\n",
       "2   Cerro Navia   9.869413   13103      157412  0.683\n",
       "3      Conchalí  10.581390   13104      140561  0.707\n",
       "4     El Bosque  10.108140   13105      191541  0.711"
      ]
     },
     "execution_count": 4,
     "metadata": {},
     "output_type": "execute_result"
    }
   ],
   "source": [
    "escolaridad = (pd.read_csv(\"input/escolaridad_por_comuna.csv\", sep=';', names=[\"nombre_comuna\", \"EI\"])\n",
    "                 .merge(comunas))\n",
    "escolaridad.head()"
   ]
  },
  {
   "cell_type": "code",
   "execution_count": 5,
   "metadata": {},
   "outputs": [
    {
     "data": {
      "text/html": [
       "<div>\n",
       "<style scoped>\n",
       "    .dataframe tbody tr th:only-of-type {\n",
       "        vertical-align: middle;\n",
       "    }\n",
       "\n",
       "    .dataframe tbody tr th {\n",
       "        vertical-align: top;\n",
       "    }\n",
       "\n",
       "    .dataframe thead th {\n",
       "        text-align: right;\n",
       "    }\n",
       "</style>\n",
       "<table border=\"1\" class=\"dataframe\">\n",
       "  <thead>\n",
       "    <tr style=\"text-align: right;\">\n",
       "      <th></th>\n",
       "      <th>nombre_comuna</th>\n",
       "      <th>II</th>\n",
       "      <th>comuna</th>\n",
       "      <th>population</th>\n",
       "      <th>idh</th>\n",
       "    </tr>\n",
       "  </thead>\n",
       "  <tbody>\n",
       "    <tr>\n",
       "      <th>0</th>\n",
       "      <td>Santiago</td>\n",
       "      <td>1400581</td>\n",
       "      <td>13101</td>\n",
       "      <td>318253</td>\n",
       "      <td>0.807</td>\n",
       "    </tr>\n",
       "    <tr>\n",
       "      <th>1</th>\n",
       "      <td>Cerrillos</td>\n",
       "      <td>865008</td>\n",
       "      <td>13102</td>\n",
       "      <td>82574</td>\n",
       "      <td>0.743</td>\n",
       "    </tr>\n",
       "    <tr>\n",
       "      <th>2</th>\n",
       "      <td>Cerro Navia</td>\n",
       "      <td>621411</td>\n",
       "      <td>13103</td>\n",
       "      <td>157412</td>\n",
       "      <td>0.683</td>\n",
       "    </tr>\n",
       "    <tr>\n",
       "      <th>3</th>\n",
       "      <td>Conchalí</td>\n",
       "      <td>665328</td>\n",
       "      <td>13104</td>\n",
       "      <td>140561</td>\n",
       "      <td>0.707</td>\n",
       "    </tr>\n",
       "    <tr>\n",
       "      <th>4</th>\n",
       "      <td>El Bosque</td>\n",
       "      <td>756117</td>\n",
       "      <td>13105</td>\n",
       "      <td>191541</td>\n",
       "      <td>0.711</td>\n",
       "    </tr>\n",
       "  </tbody>\n",
       "</table>\n",
       "</div>"
      ],
      "text/plain": [
       "  nombre_comuna       II  comuna  population    idh\n",
       "0      Santiago  1400581   13101      318253  0.807\n",
       "1     Cerrillos   865008   13102       82574  0.743\n",
       "2   Cerro Navia   621411   13103      157412  0.683\n",
       "3      Conchalí   665328   13104      140561  0.707\n",
       "4     El Bosque   756117   13105      191541  0.711"
      ]
     },
     "execution_count": 5,
     "metadata": {},
     "output_type": "execute_result"
    }
   ],
   "source": [
    "ingresos = (pd.read_csv(\"input/ingresos_por_comuna.csv\", sep=';', names=[\"nombre_comuna\", \"II\"])\n",
    "              .merge(comunas))\n",
    "ingresos.head()"
   ]
  },
  {
   "cell_type": "code",
   "execution_count": 6,
   "metadata": {},
   "outputs": [
    {
     "data": {
      "text/html": [
       "<div>\n",
       "<style scoped>\n",
       "    .dataframe tbody tr th:only-of-type {\n",
       "        vertical-align: middle;\n",
       "    }\n",
       "\n",
       "    .dataframe tbody tr th {\n",
       "        vertical-align: top;\n",
       "    }\n",
       "\n",
       "    .dataframe thead th {\n",
       "        text-align: right;\n",
       "    }\n",
       "</style>\n",
       "<table border=\"1\" class=\"dataframe\">\n",
       "  <thead>\n",
       "    <tr style=\"text-align: right;\">\n",
       "      <th></th>\n",
       "      <th>comuna</th>\n",
       "      <th>EDAD_TIPO</th>\n",
       "      <th>EDAD_CANT</th>\n",
       "    </tr>\n",
       "  </thead>\n",
       "  <tbody>\n",
       "    <tr>\n",
       "      <th>0</th>\n",
       "      <td>13109</td>\n",
       "      <td>1</td>\n",
       "      <td>56</td>\n",
       "    </tr>\n",
       "    <tr>\n",
       "      <th>1</th>\n",
       "      <td>13109</td>\n",
       "      <td>1</td>\n",
       "      <td>70</td>\n",
       "    </tr>\n",
       "    <tr>\n",
       "      <th>2</th>\n",
       "      <td>13109</td>\n",
       "      <td>1</td>\n",
       "      <td>70</td>\n",
       "    </tr>\n",
       "    <tr>\n",
       "      <th>3</th>\n",
       "      <td>13109</td>\n",
       "      <td>1</td>\n",
       "      <td>83</td>\n",
       "    </tr>\n",
       "    <tr>\n",
       "      <th>4</th>\n",
       "      <td>13109</td>\n",
       "      <td>1</td>\n",
       "      <td>94</td>\n",
       "    </tr>\n",
       "  </tbody>\n",
       "</table>\n",
       "</div>"
      ],
      "text/plain": [
       "   comuna  EDAD_TIPO  EDAD_CANT\n",
       "0   13109          1         56\n",
       "1   13109          1         70\n",
       "2   13109          1         70\n",
       "3   13109          1         83\n",
       "4   13109          1         94"
      ]
     },
     "execution_count": 6,
     "metadata": {},
     "output_type": "execute_result"
    }
   ],
   "source": [
    "expectativa = (pd.read_csv('input/DEF_2015.csv')\n",
    "                .rename(columns={'COMUNA':'comuna'}))[['comuna', 'EDAD_TIPO', 'EDAD_CANT']]\n",
    "expectativa.head()"
   ]
  },
  {
   "cell_type": "code",
   "execution_count": 7,
   "metadata": {},
   "outputs": [],
   "source": [
    "expectativa['LEI'] = (expectativa.EDAD_CANT * (expectativa.EDAD_TIPO==1)) \\\n",
    "                    +(expectativa.EDAD_CANT * (expectativa.EDAD_TIPO==2) / 12)  \\\n",
    "                    + (expectativa.EDAD_CANT * (expectativa.EDAD_TIPO==3) / 365)"
   ]
  },
  {
   "cell_type": "code",
   "execution_count": 8,
   "metadata": {},
   "outputs": [
    {
     "data": {
      "text/html": [
       "<div>\n",
       "<style scoped>\n",
       "    .dataframe tbody tr th:only-of-type {\n",
       "        vertical-align: middle;\n",
       "    }\n",
       "\n",
       "    .dataframe tbody tr th {\n",
       "        vertical-align: top;\n",
       "    }\n",
       "\n",
       "    .dataframe thead th {\n",
       "        text-align: right;\n",
       "    }\n",
       "</style>\n",
       "<table border=\"1\" class=\"dataframe\">\n",
       "  <thead>\n",
       "    <tr style=\"text-align: right;\">\n",
       "      <th></th>\n",
       "      <th>comuna</th>\n",
       "      <th>LEI</th>\n",
       "    </tr>\n",
       "  </thead>\n",
       "  <tbody>\n",
       "    <tr>\n",
       "      <th>0</th>\n",
       "      <td>1101</td>\n",
       "      <td>68.132146</td>\n",
       "    </tr>\n",
       "    <tr>\n",
       "      <th>1</th>\n",
       "      <td>1107</td>\n",
       "      <td>62.017501</td>\n",
       "    </tr>\n",
       "    <tr>\n",
       "      <th>2</th>\n",
       "      <td>1401</td>\n",
       "      <td>65.540179</td>\n",
       "    </tr>\n",
       "    <tr>\n",
       "      <th>3</th>\n",
       "      <td>1402</td>\n",
       "      <td>71.000000</td>\n",
       "    </tr>\n",
       "    <tr>\n",
       "      <th>4</th>\n",
       "      <td>1403</td>\n",
       "      <td>61.000000</td>\n",
       "    </tr>\n",
       "  </tbody>\n",
       "</table>\n",
       "</div>"
      ],
      "text/plain": [
       "   comuna        LEI\n",
       "0    1101  68.132146\n",
       "1    1107  62.017501\n",
       "2    1401  65.540179\n",
       "3    1402  71.000000\n",
       "4    1403  61.000000"
      ]
     },
     "execution_count": 8,
     "metadata": {},
     "output_type": "execute_result"
    }
   ],
   "source": [
    "expectativa = expectativa.groupby('comuna', as_index=False)['LEI'].mean()\n",
    "expectativa.head()"
   ]
  },
  {
   "cell_type": "code",
   "execution_count": 21,
   "metadata": {},
   "outputs": [],
   "source": [
    "datos_hdi = expectativa.merge(ingresos).merge(escolaridad)"
   ]
  },
  {
   "cell_type": "code",
   "execution_count": 22,
   "metadata": {},
   "outputs": [],
   "source": [
    "datos_hdi.LEI = (datos_hdi.LEI - 20) / (85 - 20)"
   ]
  },
  {
   "cell_type": "code",
   "execution_count": 23,
   "metadata": {},
   "outputs": [],
   "source": [
    "datos_hdi.EI = datos_hdi.EI / 15 "
   ]
  },
  {
   "cell_type": "code",
   "execution_count": 24,
   "metadata": {},
   "outputs": [],
   "source": [
    "datos_hdi.II = (np.log(datos_hdi.II*12/519) - np.log(100)) / (np.log(75000) - np.log(100))"
   ]
  },
  {
   "cell_type": "code",
   "execution_count": 25,
   "metadata": {},
   "outputs": [],
   "source": [
    "datos_hdi[\"HDI_2013\"] = np.power(datos_hdi.LEI*datos_hdi.EI*datos_hdi.II, 0.333333)"
   ]
  },
  {
   "cell_type": "code",
   "execution_count": 26,
   "metadata": {},
   "outputs": [
    {
     "data": {
      "text/html": [
       "<div>\n",
       "<style scoped>\n",
       "    .dataframe tbody tr th:only-of-type {\n",
       "        vertical-align: middle;\n",
       "    }\n",
       "\n",
       "    .dataframe tbody tr th {\n",
       "        vertical-align: top;\n",
       "    }\n",
       "\n",
       "    .dataframe thead th {\n",
       "        text-align: right;\n",
       "    }\n",
       "</style>\n",
       "<table border=\"1\" class=\"dataframe\">\n",
       "  <thead>\n",
       "    <tr style=\"text-align: right;\">\n",
       "      <th></th>\n",
       "      <th>comuna</th>\n",
       "      <th>LEI</th>\n",
       "      <th>nombre_comuna</th>\n",
       "      <th>II</th>\n",
       "      <th>population</th>\n",
       "      <th>idh</th>\n",
       "      <th>EI</th>\n",
       "      <th>HDI_2013</th>\n",
       "    </tr>\n",
       "  </thead>\n",
       "  <tbody>\n",
       "    <tr>\n",
       "      <th>0</th>\n",
       "      <td>13101</td>\n",
       "      <td>0.791672</td>\n",
       "      <td>Santiago</td>\n",
       "      <td>0.873137</td>\n",
       "      <td>318253</td>\n",
       "      <td>0.807</td>\n",
       "      <td>0.924099</td>\n",
       "      <td>0.861223</td>\n",
       "    </tr>\n",
       "    <tr>\n",
       "      <th>1</th>\n",
       "      <td>13102</td>\n",
       "      <td>0.782817</td>\n",
       "      <td>Cerrillos</td>\n",
       "      <td>0.800343</td>\n",
       "      <td>82574</td>\n",
       "      <td>0.743</td>\n",
       "      <td>0.713499</td>\n",
       "      <td>0.764616</td>\n",
       "    </tr>\n",
       "    <tr>\n",
       "      <th>2</th>\n",
       "      <td>13103</td>\n",
       "      <td>0.752447</td>\n",
       "      <td>Cerro Navia</td>\n",
       "      <td>0.750382</td>\n",
       "      <td>157412</td>\n",
       "      <td>0.683</td>\n",
       "      <td>0.657961</td>\n",
       "      <td>0.718874</td>\n",
       "    </tr>\n",
       "    <tr>\n",
       "      <th>3</th>\n",
       "      <td>13104</td>\n",
       "      <td>0.784872</td>\n",
       "      <td>Conchalí</td>\n",
       "      <td>0.760697</td>\n",
       "      <td>140561</td>\n",
       "      <td>0.707</td>\n",
       "      <td>0.705426</td>\n",
       "      <td>0.749585</td>\n",
       "    </tr>\n",
       "    <tr>\n",
       "      <th>4</th>\n",
       "      <td>13105</td>\n",
       "      <td>0.777236</td>\n",
       "      <td>El Bosque</td>\n",
       "      <td>0.780019</td>\n",
       "      <td>191541</td>\n",
       "      <td>0.711</td>\n",
       "      <td>0.673876</td>\n",
       "      <td>0.742015</td>\n",
       "    </tr>\n",
       "  </tbody>\n",
       "</table>\n",
       "</div>"
      ],
      "text/plain": [
       "   comuna       LEI nombre_comuna        II  population    idh        EI  \\\n",
       "0   13101  0.791672      Santiago  0.873137      318253  0.807  0.924099   \n",
       "1   13102  0.782817     Cerrillos  0.800343       82574  0.743  0.713499   \n",
       "2   13103  0.752447   Cerro Navia  0.750382      157412  0.683  0.657961   \n",
       "3   13104  0.784872      Conchalí  0.760697      140561  0.707  0.705426   \n",
       "4   13105  0.777236     El Bosque  0.780019      191541  0.711  0.673876   \n",
       "\n",
       "   HDI_2013  \n",
       "0  0.861223  \n",
       "1  0.764616  \n",
       "2  0.718874  \n",
       "3  0.749585  \n",
       "4  0.742015  "
      ]
     },
     "execution_count": 26,
     "metadata": {},
     "output_type": "execute_result"
    }
   ],
   "source": [
    "datos_hdi.head()"
   ]
  },
  {
   "cell_type": "code",
   "execution_count": 30,
   "metadata": {},
   "outputs": [],
   "source": [
    "hdi_path = 'intermediate/hdi_2013_por_comuna.csv'\n",
    "datos_hdi.to_csv(hdi_path)"
   ]
  },
  {
   "cell_type": "code",
   "execution_count": 31,
   "metadata": {},
   "outputs": [
    {
     "data": {
      "text/plain": [
       "<matplotlib.collections.PathCollection at 0x7fd5da256400>"
      ]
     },
     "execution_count": 31,
     "metadata": {},
     "output_type": "execute_result"
    },
    {
     "data": {
      "image/png": "[encoded data removed]",
      "text/plain": [
       "<Figure size 432x288 with 1 Axes>"
      ]
     },
     "metadata": {},
     "output_type": "display_data"
    }
   ],
   "source": [
    "correl = datos_hdi.dropna()\n",
    "plt.scatter(correl.idh, correl.HDI_2013)\n",
    "#plt.xlim(0,1)\n",
    "#plt.xscale('log')\n",
    "#plt.yscale('log')"
   ]
  },
  {
   "cell_type": "code",
   "execution_count": 32,
   "metadata": {},
   "outputs": [
    {
     "data": {
      "text/plain": [
       "(0.8980596184232462, 4.866387702587131e-14)"
      ]
     },
     "execution_count": 32,
     "metadata": {},
     "output_type": "execute_result"
    }
   ],
   "source": [
    "stats.pearsonr(correl.idh, correl.HDI_2013)"
   ]
  }
 ],
 "metadata": {
  "kernelspec": {
   "display_name": "Python 3.5 (Ubuntu 16.04)",
   "language": "python",
   "name": "python3-ubuntu"
  },
  "language_info": {
   "codemirror_mode": {
    "name": "ipython",
    "version": 3
   },
   "file_extension": ".py",
   "mimetype": "text/x-python",
   "name": "python",
   "nbconvert_exporter": "python",
   "pygments_lexer": "ipython3",
   "version": "3.5.2"
  }
 },
 "nbformat": 4,
 "nbformat_minor": 2
}
